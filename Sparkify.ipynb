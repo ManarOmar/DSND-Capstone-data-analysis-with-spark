{
 "cells": [
  {
   "cell_type": "markdown",
   "metadata": {},
   "source": [
    "# Sparkify Project\n",
    "\n",
    "\n",
    "##  Project Overview\n",
    "\n",
    "This workspace contains a medium sized (240MB) of the full dataset available (12GB). \n",
    "This notebook to analyze a subset of the big data (12GB) before deploying a spark cluster on the cloud using aws cloud to analyze larger amount of data.\n",
    "\n",
    "### What is Sparkify\n",
    "\n",
    "It is a fake popular digital music service similar to Spotify or Panadora, millions of users stream their favorite songs to this service every day either using the free tier that place advertisments between the songs, or using premium subscription model where they stream music as free  but pay a monthly flat rate, users can upgrade, downgrade, or cancel their service at any time, so it's crusial to make sure the users love the sevice.\n",
    "\n",
    "## Problem Statement\n",
    "The data contains the key insights for keeping users happy and helping the business thrive, so me as a data scientist, my rule is helping the business growing and growing, so I can predict which users at risk to churn either downgrading from premium to free tier or cancelling their service alltogether, predicting these users before they leave accurately the business can offer them discounts and incentives, potentially saving this business millions in revenue. \n",
    "\n",
    "### Project steps\n",
    "\n",
    "* Load data into Spark\n",
    "* Explore and clean data\n",
    "* create Features\n",
    "* Build models and compare between them \n",
    "* predict the churn according to the best model\n",
    "\n",
    "## Evaluation Metrics\n",
    "\n",
    "My main purpose of this project is to predict if the user will churn or not, the best metric to evaluate my prediction is by using F1 score, that Accuracy is used when the True Positives and True negatives are more important while F1-score is used when the False Negatives and False Positives are crucial, and in this prediction the False Negatives and False Positives are crucial, so using f1 score will be more helpful, also Accuracy can be used when the class distribution is similar while F1-score is a better metric when there are imbalanced classes. in my case I have imbalanced class that the churned users are much more than the stayed users (as in the define churn part), In most real-life classification problems, imbalanced class distribution exists and thus F1-score is a better metric to evaluate our model on.\n"
   ]
  },
  {
   "cell_type": "code",
   "execution_count": 2,
   "metadata": {},
   "outputs": [],
   "source": [
    "# import libraries\n",
    "from pyspark.context import SparkContext\n",
    "from pyspark import SparkConf\n",
    "from pyspark.sql import SparkSession\n",
    "from pyspark.sql.functions import udf\n",
    "from pyspark.sql.types import StringType\n",
    "from pyspark.sql.types import IntegerType\n",
    "import pyspark.sql.functions as F \n",
    "from pyspark.sql.functions import to_date, datediff\n",
    "from pyspark.sql.functions import concat, lit, avg, split, isnan, when, count, col, sum, mean, stddev, desc, asc\n",
    "from pyspark.sql import Window\n",
    "\n",
    "from pyspark.ml.feature import RegexTokenizer, CountVectorizer, IDF, StringIndexer, OneHotEncoderEstimator\n",
    "from pyspark.ml.feature import VectorAssembler, Normalizer, StandardScaler, MinMaxScaler\n",
    "\n",
    "from pyspark.ml.classification import LogisticRegression, GBTClassifier, NaiveBayes, RandomForestClassifier\n",
    "\n",
    "from pyspark.ml import Pipeline\n",
    "from pyspark.ml.evaluation import MulticlassClassificationEvaluator\n",
    "from pyspark.ml.evaluation import BinaryClassificationEvaluator\n",
    "\n",
    "from pyspark.ml.tuning import CrossValidator, ParamGridBuilder\n",
    "\n",
    "from pyspark.mllib.evaluation import BinaryClassificationMetrics, MulticlassMetrics\n",
    "from pyspark.mllib.util import MLUtils"
   ]
  },
  {
   "cell_type": "code",
   "execution_count": 3,
   "metadata": {},
   "outputs": [],
   "source": [
    "#import libraries for data manipulation and plotting\n",
    "import datetime\n",
    "\n",
    "import numpy as np\n",
    "import pandas as pd\n",
    "%matplotlib inline\n",
    "import matplotlib.pyplot as plt\n",
    "import seaborn as sns"
   ]
  },
  {
   "cell_type": "markdown",
   "metadata": {},
   "source": [
    "## Load and Clean Dataset\n",
    "\n",
    "### Load Data and Take a Look at It"
   ]
  },
  {
   "cell_type": "code",
   "execution_count": 7,
   "metadata": {
    "collapsed": true
   },
   "outputs": [
    {
     "data": {
      "text/plain": [
       "DataFrame[artist: string, auth: string, firstName: string, gender: string, itemInSession: bigint, lastName: string, length: double, level: string, location: string, method: string, page: string, registration: bigint, sessionId: bigint, song: string, status: bigint, ts: bigint, userAgent: string, userId: string]"
      ]
     },
     "execution_count": 7,
     "metadata": {},
     "output_type": "execute_result"
    }
   ],
   "source": [
    "import ibmos2spark\n",
    "# @hidden_cell\n",
    "credentials = {\n",
    "    'endpoint': 'https://s3.eu-geo.objectstorage.service.networklayer.com',\n",
    "    'service_id': 'iam-ServiceId-bed0b6a9-7740-45ff-876e-ac1e1cc230ec',\n",
    "    'iam_service_endpoint': 'https://iam.eu-gb.bluemix.net/oidc/token',\n",
    "    'api_key': 'ZmqwAQhxJ5oP0GU7Ao0h9mfTGfBOgpYsuwTP36fA368Z'\n",
    "}\n",
    "\n",
    "configuration_name = 'os_e83c2441f75e4c1d8fe717fd4d76b613_configs'\n",
    "cos = ibmos2spark.CloudObjectStorage(sc, credentials, configuration_name, 'bluemix_cos')\n",
    "\n",
    "from pyspark.sql import SparkSession\n",
    "spark = SparkSession.builder.getOrCreate()\n",
    "# Since JSON data can be semi-structured and contain additional metadata, it is possible that you might face issues with the DataFrame layout.\n",
    "# Please read the documentation of 'SparkSession.read()' to learn more about the possibilities to adjust the data loading.\n",
    "# PySpark documentation: http://spark.apache.org/docs/2.0.2/api/python/pyspark.sql.html#pyspark.sql.DataFrameReader.json\n",
    "\n",
    "logs = spark.read.json(cos.url('medium-sparkify-event-data.json', 'sparkify-donotdelete-pr-8omoghv3ewyuly'))\n",
    "logs.take(5)\n"
   ]
  },
  {
   "cell_type": "code",
   "execution_count": 8,
   "metadata": {},
   "outputs": [
    {
     "name": "stdout",
     "output_type": "stream",
     "text": [
      "root\n",
      " |-- artist: string (nullable = true)\n",
      " |-- auth: string (nullable = true)\n",
      " |-- firstName: string (nullable = true)\n",
      " |-- gender: string (nullable = true)\n",
      " |-- itemInSession: long (nullable = true)\n",
      " |-- lastName: string (nullable = true)\n",
      " |-- length: double (nullable = true)\n",
      " |-- level: string (nullable = true)\n",
      " |-- location: string (nullable = true)\n",
      " |-- method: string (nullable = true)\n",
      " |-- page: string (nullable = true)\n",
      " |-- registration: long (nullable = true)\n",
      " |-- sessionId: long (nullable = true)\n",
      " |-- song: string (nullable = true)\n",
      " |-- status: long (nullable = true)\n",
      " |-- ts: long (nullable = true)\n",
      " |-- userAgent: string (nullable = true)\n",
      " |-- userId: string (nullable = true)\n",
      "\n"
     ]
    }
   ],
   "source": [
    "logs.printSchema()"
   ]
  },
  {
   "cell_type": "code",
   "execution_count": 9,
   "metadata": {},
   "outputs": [
    {
     "name": "stdout",
     "output_type": "stream",
     "text": [
      "+-------+------------------+\n",
      "|summary|            length|\n",
      "+-------+------------------+\n",
      "|  count|            432877|\n",
      "|   mean|248.66459278007807|\n",
      "| stddev| 98.41266955052018|\n",
      "|    min|           0.78322|\n",
      "|    max|        3024.66567|\n",
      "+-------+------------------+\n",
      "\n"
     ]
    }
   ],
   "source": [
    "logs.describe(\"length\").show()"
   ]
  },
  {
   "cell_type": "code",
   "execution_count": 10,
   "metadata": {},
   "outputs": [
    {
     "name": "stdout",
     "output_type": "stream",
     "text": [
      "+-------------+---------+---------+------+-------------+--------+---------+-----+------------------+------+--------+-------------+---------+-------------+------+-------------+--------------------+------+\n",
      "|       artist|     auth|firstName|gender|itemInSession|lastName|   length|level|          location|method|    page| registration|sessionId|         song|status|           ts|           userAgent|userId|\n",
      "+-------------+---------+---------+------+-------------+--------+---------+-----+------------------+------+--------+-------------+---------+-------------+------+-------------+--------------------+------+\n",
      "|Martin Orford|Logged In|   Joseph|     M|           20| Morales|597.55057| free|Corpus Christi, TX|   PUT|NextSong|1532063507000|      292|Grand Designs|   200|1538352011000|\"Mozilla/5.0 (Mac...|   293|\n",
      "+-------------+---------+---------+------+-------------+--------+---------+-----+------------------+------+--------+-------------+---------+-------------+------+-------------+--------------------+------+\n",
      "only showing top 1 row\n",
      "\n"
     ]
    }
   ],
   "source": [
    "logs.show(n=1)"
   ]
  },
  {
   "cell_type": "code",
   "execution_count": 11,
   "metadata": {},
   "outputs": [
    {
     "data": {
      "text/plain": [
       "[Row(artist='Martin Orford', auth='Logged In', firstName='Joseph', gender='M', itemInSession=20, lastName='Morales', length=597.55057, level='free', location='Corpus Christi, TX', method='PUT', page='NextSong', registration=1532063507000, sessionId=292, song='Grand Designs', status=200, ts=1538352011000, userAgent='\"Mozilla/5.0 (Macintosh; Intel Mac OS X 10_9_4) AppleWebKit/537.36 (KHTML, like Gecko) Chrome/36.0.1985.125 Safari/537.36\"', userId='293')]"
      ]
     },
     "execution_count": 11,
     "metadata": {},
     "output_type": "execute_result"
    }
   ],
   "source": [
    "logs.take(1)"
   ]
  },
  {
   "cell_type": "code",
   "execution_count": 12,
   "metadata": {},
   "outputs": [
    {
     "data": {
      "text/plain": [
       "543705"
      ]
     },
     "execution_count": 12,
     "metadata": {},
     "output_type": "execute_result"
    }
   ],
   "source": [
    "#number of rows \n",
    "logs.count()"
   ]
  },
  {
   "cell_type": "code",
   "execution_count": 13,
   "metadata": {},
   "outputs": [
    {
     "name": "stdout",
     "output_type": "stream",
     "text": [
      "+--------------------+\n",
      "|                page|\n",
      "+--------------------+\n",
      "|               About|\n",
      "|          Add Friend|\n",
      "|     Add to Playlist|\n",
      "|              Cancel|\n",
      "|Cancellation Conf...|\n",
      "|           Downgrade|\n",
      "|               Error|\n",
      "|                Help|\n",
      "|                Home|\n",
      "|               Login|\n",
      "|              Logout|\n",
      "|            NextSong|\n",
      "|            Register|\n",
      "|         Roll Advert|\n",
      "|       Save Settings|\n",
      "|            Settings|\n",
      "|    Submit Downgrade|\n",
      "| Submit Registration|\n",
      "|      Submit Upgrade|\n",
      "|         Thumbs Down|\n",
      "+--------------------+\n",
      "only showing top 20 rows\n",
      "\n",
      "+-----+\n",
      "|level|\n",
      "+-----+\n",
      "| free|\n",
      "| paid|\n",
      "+-----+\n",
      "\n",
      "+------+\n",
      "|method|\n",
      "+------+\n",
      "|   PUT|\n",
      "|   GET|\n",
      "+------+\n",
      "\n",
      "+------+\n",
      "|status|\n",
      "+------+\n",
      "|   307|\n",
      "|   404|\n",
      "|   200|\n",
      "+------+\n",
      "\n"
     ]
    }
   ],
   "source": [
    "def show_unique_cat(df):\n",
    "    '''\n",
    "    showing the unique values for categorical values\n",
    "    page-level-method-status\n",
    "    \n",
    "    INPUT -> df_data spark dataframe\n",
    "    OUTPUT -> showing the unique values\n",
    "    '''\n",
    "    \n",
    "    #see the page types in the dataset\n",
    "    df.select('page').dropDuplicates().sort('page').show()\n",
    "\n",
    "    #see the level types\n",
    "    df.select('level').dropDuplicates().sort('level').show()\n",
    "\n",
    "    #see the method values\n",
    "    df.select('method').dropDuplicates().show()\n",
    "\n",
    "    #see the status values\n",
    "    df.select('status').dropDuplicates().show()\n",
    "\n",
    "show_unique_cat(logs)"
   ]
  },
  {
   "cell_type": "markdown",
   "metadata": {},
   "source": [
    "### Missing Values"
   ]
  },
  {
   "cell_type": "markdown",
   "metadata": {},
   "source": [
    "#### Explore Missing Values"
   ]
  },
  {
   "cell_type": "code",
   "execution_count": 14,
   "metadata": {},
   "outputs": [],
   "source": [
    "#percent of missing values in every column\n",
    "columns = logs.describe().columns[1:]\n",
    "missing_values = {}\n",
    "for column in columns:\n",
    "    missing_values[column] = round(logs.select(['userId']).where(logs[column].isNull()).count() / logs.count()*100, 2)\n",
    "    "
   ]
  },
  {
   "cell_type": "code",
   "execution_count": 15,
   "metadata": {},
   "outputs": [
    {
     "data": {
      "image/png": "[encoded data removed]",
      "text/plain": [
       "<matplotlib.figure.Figure at 0x7f62a4b52160>"
      ]
     },
     "metadata": {
      "needs_background": "light"
     },
     "output_type": "display_data"
    }
   ],
   "source": [
    "#plot the percent \n",
    "\n",
    "fig, ax = plt.subplots(figsize=(6,6))\n",
    "\n",
    "# Example data\n",
    "y_pos = np.arange(len(missing_values))\n",
    "\n",
    "ax.barh(y_pos, list(missing_values.values()), align='center')\n",
    "ax.set_yticks(y_pos)\n",
    "ax.set_yticklabels(missing_values.keys())\n",
    "ax.invert_yaxis()  # labels read top-to-bottom\n",
    "ax.set_xlabel('the percent of missing values')\n",
    "ax.set_ylabel('the column name')\n",
    "ax.set_title('the percent of missing values in each column')\n",
    "\n",
    "plt.show()\n"
   ]
  },
  {
   "cell_type": "code",
   "execution_count": 16,
   "metadata": {},
   "outputs": [
    {
     "name": "stdout",
     "output_type": "stream",
     "text": [
      "+------+-----+---------+------------+--------+---------+--------+------+----+------+------+------+\n",
      "|userId| page|userAgent|registration|location|firstName|lastName|gender|song|length|artist|status|\n",
      "+------+-----+---------+------------+--------+---------+--------+------+----+------+------+------+\n",
      "|      | Home|     null|        null|    null|     null|    null|  null|null|  null|  null|   200|\n",
      "|      | Home|     null|        null|    null|     null|    null|  null|null|  null|  null|   200|\n",
      "|      | Home|     null|        null|    null|     null|    null|  null|null|  null|  null|   200|\n",
      "|      |Login|     null|        null|    null|     null|    null|  null|null|  null|  null|   307|\n",
      "|      | Home|     null|        null|    null|     null|    null|  null|null|  null|  null|   200|\n",
      "|      | Home|     null|        null|    null|     null|    null|  null|null|  null|  null|   200|\n",
      "|      | Help|     null|        null|    null|     null|    null|  null|null|  null|  null|   200|\n",
      "|      | Home|     null|        null|    null|     null|    null|  null|null|  null|  null|   200|\n",
      "|      |About|     null|        null|    null|     null|    null|  null|null|  null|  null|   200|\n",
      "|      |Login|     null|        null|    null|     null|    null|  null|null|  null|  null|   307|\n",
      "|      | Home|     null|        null|    null|     null|    null|  null|null|  null|  null|   200|\n",
      "|      |Login|     null|        null|    null|     null|    null|  null|null|  null|  null|   307|\n",
      "|      |Login|     null|        null|    null|     null|    null|  null|null|  null|  null|   307|\n",
      "|      | Home|     null|        null|    null|     null|    null|  null|null|  null|  null|   200|\n",
      "|      |Login|     null|        null|    null|     null|    null|  null|null|  null|  null|   307|\n",
      "|      |Login|     null|        null|    null|     null|    null|  null|null|  null|  null|   307|\n",
      "|      |Login|     null|        null|    null|     null|    null|  null|null|  null|  null|   307|\n",
      "|      | Home|     null|        null|    null|     null|    null|  null|null|  null|  null|   200|\n",
      "|      | Home|     null|        null|    null|     null|    null|  null|null|  null|  null|   200|\n",
      "|      | Home|     null|        null|    null|     null|    null|  null|null|  null|  null|   200|\n",
      "|      |Login|     null|        null|    null|     null|    null|  null|null|  null|  null|   307|\n",
      "|      | Home|     null|        null|    null|     null|    null|  null|null|  null|  null|   200|\n",
      "|      |Login|     null|        null|    null|     null|    null|  null|null|  null|  null|   307|\n",
      "|      | Home|     null|        null|    null|     null|    null|  null|null|  null|  null|   200|\n",
      "|      | Home|     null|        null|    null|     null|    null|  null|null|  null|  null|   200|\n",
      "|      | Help|     null|        null|    null|     null|    null|  null|null|  null|  null|   200|\n",
      "|      |Login|     null|        null|    null|     null|    null|  null|null|  null|  null|   307|\n",
      "|      |Login|     null|        null|    null|     null|    null|  null|null|  null|  null|   307|\n",
      "|      | Home|     null|        null|    null|     null|    null|  null|null|  null|  null|   200|\n",
      "|      |Login|     null|        null|    null|     null|    null|  null|null|  null|  null|   307|\n",
      "|      |Login|     null|        null|    null|     null|    null|  null|null|  null|  null|   307|\n",
      "|      | Home|     null|        null|    null|     null|    null|  null|null|  null|  null|   200|\n",
      "|      |Login|     null|        null|    null|     null|    null|  null|null|  null|  null|   307|\n",
      "|      | Home|     null|        null|    null|     null|    null|  null|null|  null|  null|   200|\n",
      "|      | Home|     null|        null|    null|     null|    null|  null|null|  null|  null|   200|\n",
      "|      |Login|     null|        null|    null|     null|    null|  null|null|  null|  null|   307|\n",
      "|      | Home|     null|        null|    null|     null|    null|  null|null|  null|  null|   200|\n",
      "|      | Home|     null|        null|    null|     null|    null|  null|null|  null|  null|   200|\n",
      "|      |Login|     null|        null|    null|     null|    null|  null|null|  null|  null|   307|\n",
      "|      | Home|     null|        null|    null|     null|    null|  null|null|  null|  null|   200|\n",
      "|      |About|     null|        null|    null|     null|    null|  null|null|  null|  null|   200|\n",
      "|      | Home|     null|        null|    null|     null|    null|  null|null|  null|  null|   200|\n",
      "|      | Help|     null|        null|    null|     null|    null|  null|null|  null|  null|   200|\n",
      "|      |Login|     null|        null|    null|     null|    null|  null|null|  null|  null|   307|\n",
      "|      | Home|     null|        null|    null|     null|    null|  null|null|  null|  null|   200|\n",
      "|      |Login|     null|        null|    null|     null|    null|  null|null|  null|  null|   307|\n",
      "|      | Home|     null|        null|    null|     null|    null|  null|null|  null|  null|   200|\n",
      "|      |Login|     null|        null|    null|     null|    null|  null|null|  null|  null|   307|\n",
      "|      |Login|     null|        null|    null|     null|    null|  null|null|  null|  null|   307|\n",
      "|      | Home|     null|        null|    null|     null|    null|  null|null|  null|  null|   200|\n",
      "|      | Help|     null|        null|    null|     null|    null|  null|null|  null|  null|   200|\n",
      "|      | Home|     null|        null|    null|     null|    null|  null|null|  null|  null|   200|\n",
      "|      | Home|     null|        null|    null|     null|    null|  null|null|  null|  null|   200|\n",
      "|      |Login|     null|        null|    null|     null|    null|  null|null|  null|  null|   307|\n",
      "|      | Home|     null|        null|    null|     null|    null|  null|null|  null|  null|   200|\n",
      "|      | Home|     null|        null|    null|     null|    null|  null|null|  null|  null|   200|\n",
      "|      |Login|     null|        null|    null|     null|    null|  null|null|  null|  null|   307|\n",
      "|      | Home|     null|        null|    null|     null|    null|  null|null|  null|  null|   200|\n",
      "|      |Login|     null|        null|    null|     null|    null|  null|null|  null|  null|   307|\n",
      "|      | Home|     null|        null|    null|     null|    null|  null|null|  null|  null|   200|\n",
      "|      |About|     null|        null|    null|     null|    null|  null|null|  null|  null|   200|\n",
      "|      |Login|     null|        null|    null|     null|    null|  null|null|  null|  null|   307|\n",
      "|      | Home|     null|        null|    null|     null|    null|  null|null|  null|  null|   200|\n",
      "|      |Login|     null|        null|    null|     null|    null|  null|null|  null|  null|   307|\n",
      "|      | Home|     null|        null|    null|     null|    null|  null|null|  null|  null|   200|\n",
      "|      |Login|     null|        null|    null|     null|    null|  null|null|  null|  null|   307|\n",
      "|      | Home|     null|        null|    null|     null|    null|  null|null|  null|  null|   200|\n",
      "|      | Home|     null|        null|    null|     null|    null|  null|null|  null|  null|   200|\n",
      "|      | Home|     null|        null|    null|     null|    null|  null|null|  null|  null|   200|\n",
      "|      |Login|     null|        null|    null|     null|    null|  null|null|  null|  null|   307|\n",
      "|      | Home|     null|        null|    null|     null|    null|  null|null|  null|  null|   200|\n",
      "|      | Home|     null|        null|    null|     null|    null|  null|null|  null|  null|   200|\n",
      "|      |Login|     null|        null|    null|     null|    null|  null|null|  null|  null|   307|\n",
      "|      | Home|     null|        null|    null|     null|    null|  null|null|  null|  null|   200|\n",
      "|      |Login|     null|        null|    null|     null|    null|  null|null|  null|  null|   307|\n",
      "|      | Home|     null|        null|    null|     null|    null|  null|null|  null|  null|   200|\n",
      "|      |Login|     null|        null|    null|     null|    null|  null|null|  null|  null|   307|\n",
      "|      | Home|     null|        null|    null|     null|    null|  null|null|  null|  null|   200|\n",
      "|      |Login|     null|        null|    null|     null|    null|  null|null|  null|  null|   307|\n",
      "|      | Home|     null|        null|    null|     null|    null|  null|null|  null|  null|   200|\n",
      "|      |Login|     null|        null|    null|     null|    null|  null|null|  null|  null|   307|\n",
      "|      |Login|     null|        null|    null|     null|    null|  null|null|  null|  null|   307|\n",
      "|      | Home|     null|        null|    null|     null|    null|  null|null|  null|  null|   200|\n",
      "|      | Home|     null|        null|    null|     null|    null|  null|null|  null|  null|   200|\n",
      "|      | Home|     null|        null|    null|     null|    null|  null|null|  null|  null|   200|\n",
      "|      |About|     null|        null|    null|     null|    null|  null|null|  null|  null|   200|\n",
      "|      |Login|     null|        null|    null|     null|    null|  null|null|  null|  null|   307|\n",
      "|      | Home|     null|        null|    null|     null|    null|  null|null|  null|  null|   200|\n",
      "|      |Login|     null|        null|    null|     null|    null|  null|null|  null|  null|   307|\n",
      "|      |About|     null|        null|    null|     null|    null|  null|null|  null|  null|   200|\n",
      "|      |Login|     null|        null|    null|     null|    null|  null|null|  null|  null|   307|\n",
      "|      | Home|     null|        null|    null|     null|    null|  null|null|  null|  null|   200|\n",
      "|      | Home|     null|        null|    null|     null|    null|  null|null|  null|  null|   200|\n",
      "|      |Login|     null|        null|    null|     null|    null|  null|null|  null|  null|   307|\n",
      "|      |About|     null|        null|    null|     null|    null|  null|null|  null|  null|   200|\n",
      "|      | Home|     null|        null|    null|     null|    null|  null|null|  null|  null|   200|\n",
      "|      |Login|     null|        null|    null|     null|    null|  null|null|  null|  null|   307|\n",
      "|      | Home|     null|        null|    null|     null|    null|  null|null|  null|  null|   200|\n",
      "|      | Home|     null|        null|    null|     null|    null|  null|null|  null|  null|   200|\n",
      "|      |Login|     null|        null|    null|     null|    null|  null|null|  null|  null|   307|\n",
      "+------+-----+---------+------------+--------+---------+--------+------+----+------+------+------+\n",
      "only showing top 100 rows\n",
      "\n"
     ]
    }
   ],
   "source": [
    "#see the rows thar has missing values\n",
    "logs.select(['userId','page', 'userAgent', 'registration', 'location', \\\n",
    "           'firstName', 'lastName', 'gender', 'song', 'length', 'artist','status']) \\\n",
    ".where(logs['firstName'].isNull()).show(n=100)"
   ]
  },
  {
   "cell_type": "code",
   "execution_count": 17,
   "metadata": {},
   "outputs": [
    {
     "name": "stdout",
     "output_type": "stream",
     "text": [
      "+------+-----+---------+------------+--------+---------+--------+------+----+------+------+------+\n",
      "|userId| page|userAgent|registration|location|firstName|lastName|gender|song|length|artist|status|\n",
      "+------+-----+---------+------------+--------+---------+--------+------+----+------+------+------+\n",
      "|      | Home|     null|        null|    null|     null|    null|  null|null|  null|  null|   200|\n",
      "|      | Home|     null|        null|    null|     null|    null|  null|null|  null|  null|   200|\n",
      "|      | Home|     null|        null|    null|     null|    null|  null|null|  null|  null|   200|\n",
      "|      |Login|     null|        null|    null|     null|    null|  null|null|  null|  null|   307|\n",
      "|      | Home|     null|        null|    null|     null|    null|  null|null|  null|  null|   200|\n",
      "|      | Home|     null|        null|    null|     null|    null|  null|null|  null|  null|   200|\n",
      "|      | Help|     null|        null|    null|     null|    null|  null|null|  null|  null|   200|\n",
      "|      | Home|     null|        null|    null|     null|    null|  null|null|  null|  null|   200|\n",
      "|      |About|     null|        null|    null|     null|    null|  null|null|  null|  null|   200|\n",
      "|      |Login|     null|        null|    null|     null|    null|  null|null|  null|  null|   307|\n",
      "|      | Home|     null|        null|    null|     null|    null|  null|null|  null|  null|   200|\n",
      "|      |Login|     null|        null|    null|     null|    null|  null|null|  null|  null|   307|\n",
      "|      |Login|     null|        null|    null|     null|    null|  null|null|  null|  null|   307|\n",
      "|      | Home|     null|        null|    null|     null|    null|  null|null|  null|  null|   200|\n",
      "|      |Login|     null|        null|    null|     null|    null|  null|null|  null|  null|   307|\n",
      "|      |Login|     null|        null|    null|     null|    null|  null|null|  null|  null|   307|\n",
      "|      |Login|     null|        null|    null|     null|    null|  null|null|  null|  null|   307|\n",
      "|      | Home|     null|        null|    null|     null|    null|  null|null|  null|  null|   200|\n",
      "|      | Home|     null|        null|    null|     null|    null|  null|null|  null|  null|   200|\n",
      "|      | Home|     null|        null|    null|     null|    null|  null|null|  null|  null|   200|\n",
      "|      |Login|     null|        null|    null|     null|    null|  null|null|  null|  null|   307|\n",
      "|      | Home|     null|        null|    null|     null|    null|  null|null|  null|  null|   200|\n",
      "|      |Login|     null|        null|    null|     null|    null|  null|null|  null|  null|   307|\n",
      "|      | Home|     null|        null|    null|     null|    null|  null|null|  null|  null|   200|\n",
      "|      | Home|     null|        null|    null|     null|    null|  null|null|  null|  null|   200|\n",
      "|      | Help|     null|        null|    null|     null|    null|  null|null|  null|  null|   200|\n",
      "|      |Login|     null|        null|    null|     null|    null|  null|null|  null|  null|   307|\n",
      "|      |Login|     null|        null|    null|     null|    null|  null|null|  null|  null|   307|\n",
      "|      | Home|     null|        null|    null|     null|    null|  null|null|  null|  null|   200|\n",
      "|      |Login|     null|        null|    null|     null|    null|  null|null|  null|  null|   307|\n",
      "|      |Login|     null|        null|    null|     null|    null|  null|null|  null|  null|   307|\n",
      "|      | Home|     null|        null|    null|     null|    null|  null|null|  null|  null|   200|\n",
      "|      |Login|     null|        null|    null|     null|    null|  null|null|  null|  null|   307|\n",
      "|      | Home|     null|        null|    null|     null|    null|  null|null|  null|  null|   200|\n",
      "|      | Home|     null|        null|    null|     null|    null|  null|null|  null|  null|   200|\n",
      "|      |Login|     null|        null|    null|     null|    null|  null|null|  null|  null|   307|\n",
      "|      | Home|     null|        null|    null|     null|    null|  null|null|  null|  null|   200|\n",
      "|      | Home|     null|        null|    null|     null|    null|  null|null|  null|  null|   200|\n",
      "|      |Login|     null|        null|    null|     null|    null|  null|null|  null|  null|   307|\n",
      "|      | Home|     null|        null|    null|     null|    null|  null|null|  null|  null|   200|\n",
      "|      |About|     null|        null|    null|     null|    null|  null|null|  null|  null|   200|\n",
      "|      | Home|     null|        null|    null|     null|    null|  null|null|  null|  null|   200|\n",
      "|      | Help|     null|        null|    null|     null|    null|  null|null|  null|  null|   200|\n",
      "|      |Login|     null|        null|    null|     null|    null|  null|null|  null|  null|   307|\n",
      "|      | Home|     null|        null|    null|     null|    null|  null|null|  null|  null|   200|\n",
      "|      |Login|     null|        null|    null|     null|    null|  null|null|  null|  null|   307|\n",
      "|      | Home|     null|        null|    null|     null|    null|  null|null|  null|  null|   200|\n",
      "|      |Login|     null|        null|    null|     null|    null|  null|null|  null|  null|   307|\n",
      "|      |Login|     null|        null|    null|     null|    null|  null|null|  null|  null|   307|\n",
      "|      | Home|     null|        null|    null|     null|    null|  null|null|  null|  null|   200|\n",
      "|      | Help|     null|        null|    null|     null|    null|  null|null|  null|  null|   200|\n",
      "|      | Home|     null|        null|    null|     null|    null|  null|null|  null|  null|   200|\n",
      "|      | Home|     null|        null|    null|     null|    null|  null|null|  null|  null|   200|\n",
      "|      |Login|     null|        null|    null|     null|    null|  null|null|  null|  null|   307|\n",
      "|      | Home|     null|        null|    null|     null|    null|  null|null|  null|  null|   200|\n",
      "|      | Home|     null|        null|    null|     null|    null|  null|null|  null|  null|   200|\n",
      "|      |Login|     null|        null|    null|     null|    null|  null|null|  null|  null|   307|\n",
      "|      | Home|     null|        null|    null|     null|    null|  null|null|  null|  null|   200|\n",
      "|      |Login|     null|        null|    null|     null|    null|  null|null|  null|  null|   307|\n",
      "|      | Home|     null|        null|    null|     null|    null|  null|null|  null|  null|   200|\n",
      "|      |About|     null|        null|    null|     null|    null|  null|null|  null|  null|   200|\n",
      "|      |Login|     null|        null|    null|     null|    null|  null|null|  null|  null|   307|\n",
      "|      | Home|     null|        null|    null|     null|    null|  null|null|  null|  null|   200|\n",
      "|      |Login|     null|        null|    null|     null|    null|  null|null|  null|  null|   307|\n",
      "|      | Home|     null|        null|    null|     null|    null|  null|null|  null|  null|   200|\n",
      "|      |Login|     null|        null|    null|     null|    null|  null|null|  null|  null|   307|\n",
      "|      | Home|     null|        null|    null|     null|    null|  null|null|  null|  null|   200|\n",
      "|      | Home|     null|        null|    null|     null|    null|  null|null|  null|  null|   200|\n",
      "|      | Home|     null|        null|    null|     null|    null|  null|null|  null|  null|   200|\n",
      "|      |Login|     null|        null|    null|     null|    null|  null|null|  null|  null|   307|\n",
      "|      | Home|     null|        null|    null|     null|    null|  null|null|  null|  null|   200|\n",
      "|      | Home|     null|        null|    null|     null|    null|  null|null|  null|  null|   200|\n",
      "|      |Login|     null|        null|    null|     null|    null|  null|null|  null|  null|   307|\n",
      "|      | Home|     null|        null|    null|     null|    null|  null|null|  null|  null|   200|\n",
      "|      |Login|     null|        null|    null|     null|    null|  null|null|  null|  null|   307|\n",
      "|      | Home|     null|        null|    null|     null|    null|  null|null|  null|  null|   200|\n",
      "|      |Login|     null|        null|    null|     null|    null|  null|null|  null|  null|   307|\n",
      "|      | Home|     null|        null|    null|     null|    null|  null|null|  null|  null|   200|\n",
      "|      |Login|     null|        null|    null|     null|    null|  null|null|  null|  null|   307|\n",
      "|      | Home|     null|        null|    null|     null|    null|  null|null|  null|  null|   200|\n",
      "|      |Login|     null|        null|    null|     null|    null|  null|null|  null|  null|   307|\n",
      "|      |Login|     null|        null|    null|     null|    null|  null|null|  null|  null|   307|\n",
      "|      | Home|     null|        null|    null|     null|    null|  null|null|  null|  null|   200|\n",
      "|      | Home|     null|        null|    null|     null|    null|  null|null|  null|  null|   200|\n",
      "|      | Home|     null|        null|    null|     null|    null|  null|null|  null|  null|   200|\n",
      "|      |About|     null|        null|    null|     null|    null|  null|null|  null|  null|   200|\n",
      "|      |Login|     null|        null|    null|     null|    null|  null|null|  null|  null|   307|\n",
      "|      | Home|     null|        null|    null|     null|    null|  null|null|  null|  null|   200|\n",
      "|      |Login|     null|        null|    null|     null|    null|  null|null|  null|  null|   307|\n",
      "|      |About|     null|        null|    null|     null|    null|  null|null|  null|  null|   200|\n",
      "|      |Login|     null|        null|    null|     null|    null|  null|null|  null|  null|   307|\n",
      "|      | Home|     null|        null|    null|     null|    null|  null|null|  null|  null|   200|\n",
      "|      | Home|     null|        null|    null|     null|    null|  null|null|  null|  null|   200|\n",
      "|      |Login|     null|        null|    null|     null|    null|  null|null|  null|  null|   307|\n",
      "|      |About|     null|        null|    null|     null|    null|  null|null|  null|  null|   200|\n",
      "|      | Home|     null|        null|    null|     null|    null|  null|null|  null|  null|   200|\n",
      "|      |Login|     null|        null|    null|     null|    null|  null|null|  null|  null|   307|\n",
      "|      | Home|     null|        null|    null|     null|    null|  null|null|  null|  null|   200|\n",
      "|      | Home|     null|        null|    null|     null|    null|  null|null|  null|  null|   200|\n",
      "|      |Login|     null|        null|    null|     null|    null|  null|null|  null|  null|   307|\n",
      "+------+-----+---------+------------+--------+---------+--------+------+----+------+------+------+\n",
      "only showing top 100 rows\n",
      "\n"
     ]
    }
   ],
   "source": [
    "logs.select(['userId','page', 'userAgent', 'registration', 'location', \\\n",
    "           'firstName', 'lastName', 'gender', 'song', 'length', 'artist', 'status']) \\\n",
    ".where(logs['userId']=='').show(n=100)"
   ]
  },
  {
   "cell_type": "markdown",
   "metadata": {},
   "source": [
    "From the above, we notice that the same rows have the null values in the different columns in the dataset, and at the same time the userId column is empty"
   ]
  },
  {
   "cell_type": "code",
   "execution_count": 18,
   "metadata": {},
   "outputs": [
    {
     "data": {
      "text/plain": [
       "2.89"
      ]
     },
     "execution_count": 18,
     "metadata": {},
     "output_type": "execute_result"
    }
   ],
   "source": [
    "#show the percent of the empty user ids in the dataset\n",
    "round(logs.select(['page']).where(logs['userId']=='').count()/logs.count()*100,2) "
   ]
  },
  {
   "cell_type": "markdown",
   "metadata": {},
   "source": [
    "so the percent of empty userId is the same as the percent of the missing values in many of the columns, so the rows with empty userId is the same as the rows with missing valuesin many of columns, this makes a sence, I'll take a look at the page types."
   ]
  },
  {
   "cell_type": "code",
   "execution_count": 19,
   "metadata": {},
   "outputs": [
    {
     "name": "stdout",
     "output_type": "stream",
     "text": [
      "+-------------------+\n",
      "|               page|\n",
      "+-------------------+\n",
      "|               Home|\n",
      "|              About|\n",
      "|Submit Registration|\n",
      "|              Login|\n",
      "|           Register|\n",
      "|               Help|\n",
      "|              Error|\n",
      "+-------------------+\n",
      "\n"
     ]
    }
   ],
   "source": [
    "#show the pages that have got empty user id\n",
    "logs.select(['page']).where(logs['userId']=='').dropDuplicates().show()"
   ]
  },
  {
   "cell_type": "code",
   "execution_count": 20,
   "metadata": {},
   "outputs": [
    {
     "name": "stdout",
     "output_type": "stream",
     "text": [
      "+--------------------+\n",
      "|                page|\n",
      "+--------------------+\n",
      "|              Cancel|\n",
      "|    Submit Downgrade|\n",
      "|         Thumbs Down|\n",
      "|                Home|\n",
      "|           Downgrade|\n",
      "|         Roll Advert|\n",
      "|              Logout|\n",
      "|       Save Settings|\n",
      "|Cancellation Conf...|\n",
      "|               About|\n",
      "|            Settings|\n",
      "|     Add to Playlist|\n",
      "|          Add Friend|\n",
      "|            NextSong|\n",
      "|           Thumbs Up|\n",
      "|                Help|\n",
      "|             Upgrade|\n",
      "|               Error|\n",
      "|      Submit Upgrade|\n",
      "+--------------------+\n",
      "\n"
     ]
    }
   ],
   "source": [
    "#show the pages that haven't got empty user id\n",
    "logs.select(['page']).where(logs['userId']!='').dropDuplicates().show()"
   ]
  },
  {
   "cell_type": "markdown",
   "metadata": {},
   "source": [
    "The pages that have got empty userId and have not got userId values are `Register`, `login`, `Submit Registeration`, this means when the customer doesn't login, so he has not userId and then no data. Now I will take a look at the columns with 20% missing values to be able to recognize the situation."
   ]
  },
  {
   "cell_type": "code",
   "execution_count": 21,
   "metadata": {},
   "outputs": [
    {
     "name": "stdout",
     "output_type": "stream",
     "text": [
      "+--------+\n",
      "|    page|\n",
      "+--------+\n",
      "|NextSong|\n",
      "+--------+\n",
      "\n"
     ]
    }
   ],
   "source": [
    "#Take a look at the userIds and the page types when the artist is not null\n",
    "logs.select(['page']).where(logs['artist'].isNotNull()).dropDuplicates().show()"
   ]
  },
  {
   "cell_type": "code",
   "execution_count": 22,
   "metadata": {},
   "outputs": [
    {
     "name": "stdout",
     "output_type": "stream",
     "text": [
      "+--------+\n",
      "|    page|\n",
      "+--------+\n",
      "|NextSong|\n",
      "+--------+\n",
      "\n"
     ]
    }
   ],
   "source": [
    "#Take a look at the userIds and the page types when the song is not null\n",
    "logs.select(['page']).where(logs['song'].isNotNull()).dropDuplicates().show()"
   ]
  },
  {
   "cell_type": "markdown",
   "metadata": {},
   "source": [
    "So the artist,song, and length columns have got values when the page type is NextPage"
   ]
  },
  {
   "cell_type": "markdown",
   "metadata": {},
   "source": [
    "#### Clean missing values\n",
    "        "
   ]
  },
  {
   "cell_type": "code",
   "execution_count": 23,
   "metadata": {},
   "outputs": [],
   "source": [
    "def clean(df, print_count=True):\n",
    "    '''\n",
    "    perform data cleaning on sparkify dataset\n",
    "    \n",
    "    INPUT -> pyspark dataframe containing sparkify logs events\n",
    "    \n",
    "    OUTPUT -> pyspark dataframe with no missing values or empty userId\n",
    "    '''\n",
    "    #remove the data that have not userId\n",
    "    df = df.filter(df['userId'] != \"\")\n",
    "\n",
    "    #remove missing values\n",
    "    df = df.dropna(how = \"any\", subset = [\"userId\", \"sessionId\"])\n",
    "\n",
    "    # remove null values at artist, song and length features by selecting the NextSong Page\n",
    "    #df = df.filter(df.artist.isNotNull())\n",
    "\n",
    "    if print_count:\n",
    "        print('the number of missig values in every column in the dataset:\\n')\n",
    "        #Test\n",
    "        for col in columns:\n",
    "            print(col, df.select(['userId']).where(df[col].isNull()).count())\n",
    "        \n",
    "    return df"
   ]
  },
  {
   "cell_type": "code",
   "execution_count": 24,
   "metadata": {},
   "outputs": [
    {
     "name": "stdout",
     "output_type": "stream",
     "text": [
      "the number of missig values in every column in the dataset:\n",
      "\n",
      "artist 95128\n",
      "auth 0\n",
      "firstName 0\n",
      "gender 0\n",
      "itemInSession 0\n",
      "lastName 0\n",
      "length 95128\n",
      "level 0\n",
      "location 0\n",
      "method 0\n",
      "page 0\n",
      "registration 0\n",
      "sessionId 0\n",
      "song 95128\n",
      "status 0\n",
      "ts 0\n",
      "userAgent 0\n",
      "userId 0\n"
     ]
    }
   ],
   "source": [
    "logs_new = clean(logs)"
   ]
  },
  {
   "cell_type": "code",
   "execution_count": 25,
   "metadata": {},
   "outputs": [
    {
     "name": "stdout",
     "output_type": "stream",
     "text": [
      "+--------------------+------+\n",
      "|                page| count|\n",
      "+--------------------+------+\n",
      "|              Cancel|    99|\n",
      "|    Submit Downgrade|   117|\n",
      "|         Thumbs Down|  4911|\n",
      "|                Home| 19089|\n",
      "|           Downgrade|  3811|\n",
      "|         Roll Advert|  7773|\n",
      "|              Logout|  5990|\n",
      "|       Save Settings|   585|\n",
      "|Cancellation Conf...|    99|\n",
      "|               About|  1026|\n",
      "|            Settings|  2964|\n",
      "|     Add to Playlist| 12349|\n",
      "|          Add Friend|  8087|\n",
      "|            NextSong|432877|\n",
      "|           Thumbs Up| 23826|\n",
      "|                Help|  2644|\n",
      "|             Upgrade|   968|\n",
      "|               Error|   503|\n",
      "|      Submit Upgrade|   287|\n",
      "+--------------------+------+\n",
      "\n"
     ]
    }
   ],
   "source": [
    "logs_new.groupby('page').count().show()"
   ]
  },
  {
   "cell_type": "markdown",
   "metadata": {},
   "source": [
    "## Exploratory Data Analysis\n",
    "\n",
    "Performing EDA by loading a small subset of the data and doing basic manipulations within Spark \n",
    "This EDA will pbe performed on the uncleaned dataset to see the behavour of all users\n",
    "\n"
   ]
  },
  {
   "cell_type": "markdown",
   "metadata": {},
   "source": [
    "### preliminary analysis\n",
    "Doing some basic analysis to build intuition about the data"
   ]
  },
  {
   "cell_type": "code",
   "execution_count": 26,
   "metadata": {},
   "outputs": [
    {
     "data": {
      "text/plain": [
       "448"
      ]
     },
     "execution_count": 26,
     "metadata": {},
     "output_type": "execute_result"
    }
   ],
   "source": [
    "#number of unique users in the cleaned dataset\n",
    "logs_new.select('userId').dropDuplicates().count()"
   ]
  },
  {
   "cell_type": "code",
   "execution_count": 27,
   "metadata": {},
   "outputs": [
    {
     "data": {
      "text/plain": [
       "21248"
      ]
     },
     "execution_count": 27,
     "metadata": {},
     "output_type": "execute_result"
    }
   ],
   "source": [
    "#number of unique artist\n",
    "logs_new.select('artist').dropDuplicates().count()\n"
   ]
  },
  {
   "cell_type": "markdown",
   "metadata": {},
   "source": [
    "#### Explore Location Feature"
   ]
  },
  {
   "cell_type": "code",
   "execution_count": 28,
   "metadata": {},
   "outputs": [
    {
     "name": "stdout",
     "output_type": "stream",
     "text": [
      "+--------------------+-----+\n",
      "|            location|count|\n",
      "+--------------------+-----+\n",
      "|          Athens, TX|   13|\n",
      "|       Duluth, MN-WI|   17|\n",
      "|         Bozeman, MT|   25|\n",
      "|Cleveland-Elyria, OH|   27|\n",
      "|Beaumont-Port Art...|   33|\n",
      "|      Fort Wayne, IN|   38|\n",
      "|          Dayton, OH|   62|\n",
      "|   Bowling Green, KY|   66|\n",
      "| Rio Grande City, TX|   70|\n",
      "|            Napa, CA|   86|\n",
      "|  Port St. Lucie, FL|   91|\n",
      "|          Monroe, LA|  100|\n",
      "|           Tulsa, OK|  127|\n",
      "|      Charleston, WV|  142|\n",
      "|Durham-Chapel Hil...|  153|\n",
      "|      Vermillion, SD|  161|\n",
      "|   Stockton-Lodi, CA|  166|\n",
      "|Santa Maria-Santa...|  177|\n",
      "|Birmingham-Hoover...|  178|\n",
      "|     Gainesville, FL|  184|\n",
      "+--------------------+-----+\n",
      "only showing top 20 rows\n",
      "\n"
     ]
    }
   ],
   "source": [
    "logs_new.groupby('location').count().sort('count').show()"
   ]
  },
  {
   "cell_type": "code",
   "execution_count": 29,
   "metadata": {},
   "outputs": [],
   "source": [
    "# create column for state for each event\n",
    "\n",
    "def extract_state(location):\n",
    "    location = location.split(',')[-1].strip()\n",
    "    if (len(location) > 2):\n",
    "        location = location.split('-')[-1].strip()\n",
    "    \n",
    "    return location\n",
    "    \n",
    "e_state = udf(extract_state, StringType())\n",
    "logs_new = logs_new.withColumn('state', e_state(col('location')))"
   ]
  },
  {
   "cell_type": "code",
   "execution_count": 30,
   "metadata": {},
   "outputs": [
    {
     "data": {
      "text/plain": [
       "Text(0.5,1,'the number of events for every state')"
      ]
     },
     "execution_count": 30,
     "metadata": {},
     "output_type": "execute_result"
    },
    {
     "data": {
      "image/png": "[encoded data removed]",
      "text/plain": [
       "<matplotlib.figure.Figure at 0x7f62a4bc60b8>"
      ]
     },
     "metadata": {
      "needs_background": "light"
     },
     "output_type": "display_data"
    }
   ],
   "source": [
    "#plot number of users for each level \n",
    "df_state = logs_new.groupby('state').count().toPandas()\n",
    "fig, ax = plt.subplots(figsize =(10,6))\n",
    "g = sns.barplot(x=\"state\", y=\"count\", data=df_state)\n",
    "plt.setp(g.get_xticklabels(), rotation=90)\n",
    "plt.title('the number of events for every state')"
   ]
  },
  {
   "cell_type": "markdown",
   "metadata": {},
   "source": [
    "from exploring the states that users lives in, we see that CA state has the highest number of users then PA, TX,FL,WI,NC respectively, and many of the states has a very few number of users.\n"
   ]
  },
  {
   "cell_type": "markdown",
   "metadata": {},
   "source": [
    "#### Exploring the categorical variables (level, page, method, gender, auth)\n"
   ]
  },
  {
   "cell_type": "code",
   "execution_count": 31,
   "metadata": {},
   "outputs": [
    {
     "data": {
      "text/plain": [
       "Text(0.5,1,'the number of events for every level')"
      ]
     },
     "execution_count": 31,
     "metadata": {},
     "output_type": "execute_result"
    },
    {
     "data": {
      "image/png": "[encoded data removed]",
      "text/plain": [
       "<matplotlib.figure.Figure at 0x7f62a48ca860>"
      ]
     },
     "metadata": {
      "needs_background": "light"
     },
     "output_type": "display_data"
    }
   ],
   "source": [
    "#plot number of users for each level \n",
    "df_level = logs_new.groupby('level').count().toPandas()\n",
    "sns.barplot(x=\"level\", y=\"count\", data=df_level)\n",
    "plt.title('the number of events for every level')"
   ]
  },
  {
   "cell_type": "code",
   "execution_count": 32,
   "metadata": {},
   "outputs": [
    {
     "data": {
      "text/plain": [
       "Text(0.5,1,'the number of events for every method')"
      ]
     },
     "execution_count": 32,
     "metadata": {},
     "output_type": "execute_result"
    },
    {
     "data": {
      "image/png": "[encoded data removed]",
      "text/plain": [
       "<matplotlib.figure.Figure at 0x7f62a48ea6d8>"
      ]
     },
     "metadata": {
      "needs_background": "light"
     },
     "output_type": "display_data"
    }
   ],
   "source": [
    "#plot number of users for each method\n",
    "df_level = logs_new.groupby('method').count().toPandas()\n",
    "sns.barplot(x=\"method\", y=\"count\", data=df_level)\n",
    "plt.title('the number of events for every method')"
   ]
  },
  {
   "cell_type": "code",
   "execution_count": 33,
   "metadata": {},
   "outputs": [
    {
     "data": {
      "text/plain": [
       "Text(0.5,1,'the number of events for every gender')"
      ]
     },
     "execution_count": 33,
     "metadata": {},
     "output_type": "execute_result"
    },
    {
     "data": {
      "image/png": "[encoded data removed]",
      "text/plain": [
       "<matplotlib.figure.Figure at 0x7f62a47c86d8>"
      ]
     },
     "metadata": {
      "needs_background": "light"
     },
     "output_type": "display_data"
    }
   ],
   "source": [
    "#plot number of users for each gender\n",
    "df_level = logs_new.groupby('gender').count().toPandas()\n",
    "sns.barplot(x=\"gender\", y=\"count\", data=df_level)\n",
    "plt.title('the number of events for every gender')"
   ]
  },
  {
   "cell_type": "code",
   "execution_count": 34,
   "metadata": {},
   "outputs": [
    {
     "name": "stdout",
     "output_type": "stream",
     "text": [
      "        auth   count\n",
      "0  Cancelled      99\n",
      "1  Logged In  527906\n"
     ]
    },
    {
     "data": {
      "text/plain": [
       "Text(0.5,1,'the number of events for every authentication')"
      ]
     },
     "execution_count": 34,
     "metadata": {},
     "output_type": "execute_result"
    },
    {
     "data": {
      "image/png": "[encoded data removed]",
      "text/plain": [
       "<matplotlib.figure.Figure at 0x7f62a4758c50>"
      ]
     },
     "metadata": {
      "needs_background": "light"
     },
     "output_type": "display_data"
    }
   ],
   "source": [
    "#plot number of users for each authintication\n",
    "df_level = logs_new.groupby('auth').count().toPandas()\n",
    "print(df_level)\n",
    "sns.barplot(x=\"auth\", y=\"count\", data=df_level)\n",
    "plt.title('the number of events for every authentication')"
   ]
  },
  {
   "cell_type": "code",
   "execution_count": 35,
   "metadata": {},
   "outputs": [
    {
     "data": {
      "text/plain": [
       "Text(0.5,1,'the number of events for every page')"
      ]
     },
     "execution_count": 35,
     "metadata": {},
     "output_type": "execute_result"
    },
    {
     "data": {
      "image/png": "[encoded data removed]",
      "text/plain": [
       "<matplotlib.figure.Figure at 0x7f62a4779160>"
      ]
     },
     "metadata": {
      "needs_background": "light"
     },
     "output_type": "display_data"
    }
   ],
   "source": [
    "#plot number of users for each level \n",
    "df_level = logs_new.groupby('page').count().toPandas()\n",
    "fig, ax = plt.subplots(figsize =(10,6))\n",
    "g = sns.barplot(x=\"page\", y=\"count\", data=df_level, ax=ax)\n",
    "plt.setp(g.get_xticklabels(), rotation=90)\n",
    "plt.title('the number of events for every page')\n"
   ]
  },
  {
   "cell_type": "markdown",
   "metadata": {},
   "source": [
    "From the above visualizations, we notice that:\n",
    "\n",
    "1. The `paid` level has higher number of events than the free level.\n",
    "2. There are some `states` has much more users than others, that CA has the highest number of users.\n",
    "3. There's no big diffrence between females and males (`gender`) in their behavior on the app.\n",
    "4. The `Logged in` authentication has much more events than the logged out or any other authentication type.\n",
    "5. The `NextSong` page has got the highest number of events."
   ]
  },
  {
   "cell_type": "markdown",
   "metadata": {},
   "source": [
    "Now, that we will focus on the events that the user churn either by downgrading or by cancellation."
   ]
  },
  {
   "cell_type": "markdown",
   "metadata": {},
   "source": [
    "### Define Churn\n",
    "I will create a column `Churn` to use as the label for the model. I will use the `Cancellation Confirmation` events to define `churn` feature, which happen for both paid and free users. "
   ]
  },
  {
   "cell_type": "code",
   "execution_count": 36,
   "metadata": {},
   "outputs": [],
   "source": [
    "# Extract the userIds who have got the cancellation confirmation or DownGrade pages to define the churn column\n",
    "churn = logs_new.filter((logs_new.page == 'Cancellation Confirmation') | (logs_new.page == 'Downgrade')).select('userId').dropDuplicates().collect()\n",
    "churn_list = [row['userId'] for row in churn]\n"
   ]
  },
  {
   "cell_type": "code",
   "execution_count": 37,
   "metadata": {},
   "outputs": [],
   "source": [
    "logs_churn = logs_new.withColumn(\"churn\", logs_new.userId.isin(churn_list))"
   ]
  },
  {
   "cell_type": "code",
   "execution_count": 38,
   "metadata": {},
   "outputs": [
    {
     "data": {
      "text/plain": [
       "[Row(artist='Martin Orford', auth='Logged In', firstName='Joseph', gender='M', itemInSession=20, lastName='Morales', length=597.55057, level='free', location='Corpus Christi, TX', method='PUT', page='NextSong', registration=1532063507000, sessionId=292, song='Grand Designs', status=200, ts=1538352011000, userAgent='\"Mozilla/5.0 (Macintosh; Intel Mac OS X 10_9_4) AppleWebKit/537.36 (KHTML, like Gecko) Chrome/36.0.1985.125 Safari/537.36\"', userId='293', state='TX', churn=True),\n",
       " Row(artist=\"John Brown's Body\", auth='Logged In', firstName='Sawyer', gender='M', itemInSession=74, lastName='Larson', length=380.21179, level='free', location='Houston-The Woodlands-Sugar Land, TX', method='PUT', page='NextSong', registration=1538069638000, sessionId=97, song='Bulls', status=200, ts=1538352025000, userAgent='\"Mozilla/5.0 (Macintosh; Intel Mac OS X 10_9_4) AppleWebKit/537.36 (KHTML, like Gecko) Chrome/36.0.1985.143 Safari/537.36\"', userId='98', state='TX', churn=True),\n",
       " Row(artist='Afroman', auth='Logged In', firstName='Maverick', gender='M', itemInSession=184, lastName='Santiago', length=202.37016, level='paid', location='Orlando-Kissimmee-Sanford, FL', method='PUT', page='NextSong', registration=1535953455000, sessionId=178, song='Because I Got High', status=200, ts=1538352118000, userAgent='\"Mozilla/5.0 (Macintosh; Intel Mac OS X 10_9_4) AppleWebKit/537.36 (KHTML, like Gecko) Chrome/36.0.1985.143 Safari/537.36\"', userId='179', state='FL', churn=True),\n",
       " Row(artist=None, auth='Logged In', firstName='Maverick', gender='M', itemInSession=185, lastName='Santiago', length=None, level='paid', location='Orlando-Kissimmee-Sanford, FL', method='PUT', page='Logout', registration=1535953455000, sessionId=178, song=None, status=307, ts=1538352119000, userAgent='\"Mozilla/5.0 (Macintosh; Intel Mac OS X 10_9_4) AppleWebKit/537.36 (KHTML, like Gecko) Chrome/36.0.1985.143 Safari/537.36\"', userId='179', state='FL', churn=True),\n",
       " Row(artist='Lily Allen', auth='Logged In', firstName='Gianna', gender='F', itemInSession=22, lastName='Campos', length=194.53342, level='paid', location='Mobile, AL', method='PUT', page='NextSong', registration=1535931018000, sessionId=245, song='Smile (Radio Edit)', status=200, ts=1538352124000, userAgent='Mozilla/5.0 (Windows NT 6.1; WOW64; rv:31.0) Gecko/20100101 Firefox/31.0', userId='246', state='AL', churn=True)]"
      ]
     },
     "execution_count": 38,
     "metadata": {},
     "output_type": "execute_result"
    }
   ],
   "source": [
    "#Take a look at the dataframe with churn\n",
    "logs_churn.head(n=5)"
   ]
  },
  {
   "cell_type": "markdown",
   "metadata": {},
   "source": [
    "### Explore Data\n",
    "Now, it is the time to perform some exploratory data analysis to observe the behavior for users who stayed vs users who churned. "
   ]
  },
  {
   "cell_type": "code",
   "execution_count": 39,
   "metadata": {},
   "outputs": [
    {
     "name": "stdout",
     "output_type": "stream",
     "text": [
      "+-----+-----+\n",
      "|churn|count|\n",
      "+-----+-----+\n",
      "|false|  122|\n",
      "| true|  326|\n",
      "+-----+-----+\n",
      "\n"
     ]
    }
   ],
   "source": [
    "#showing the number of churned users and stayed users\n",
    "logs_churn.dropDuplicates([\"userId\"]).groupby('churn').count().sort('churn').show()"
   ]
  },
  {
   "cell_type": "markdown",
   "metadata": {},
   "source": [
    "Now it is the time to explore the dataset by comparing between churned users and stayed users to be able to extract the best features that are suitable for applying machine learning algorithms and techniques."
   ]
  },
  {
   "cell_type": "markdown",
   "metadata": {},
   "source": [
    "#### Explore categorical columns(gender, level, auth, method)"
   ]
  },
  {
   "cell_type": "code",
   "execution_count": 40,
   "metadata": {},
   "outputs": [
    {
     "data": {
      "text/plain": [
       "Text(0.5,1,'the number of users for churned and stayed users based on gender')"
      ]
     },
     "execution_count": 40,
     "metadata": {},
     "output_type": "execute_result"
    },
    {
     "data": {
      "image/png": "[encoded data removed]",
      "text/plain": [
       "<matplotlib.figure.Figure at 0x7f62a45b0e48>"
      ]
     },
     "metadata": {
      "needs_background": "light"
     },
     "output_type": "display_data"
    }
   ],
   "source": [
    "# Showing the number of churned users and stayed users according to gender feature\n",
    "gender_churn = logs_churn.dropDuplicates([\"userId\", \"gender\"]).groupby([\"churn\", \"gender\"]).count().sort(\"churn\").toPandas()\n",
    "sns.barplot(x='churn', y='count', hue='gender', data=gender_churn)\n",
    "plt.title('the number of users for churned and stayed users based on gender')"
   ]
  },
  {
   "cell_type": "code",
   "execution_count": 41,
   "metadata": {},
   "outputs": [
    {
     "data": {
      "text/plain": [
       "Text(0.5,1,'the number of users for churned and stayed users based on level')"
      ]
     },
     "execution_count": 41,
     "metadata": {},
     "output_type": "execute_result"
    },
    {
     "data": {
      "image/png": "[encoded data removed]",
      "text/plain": [
       "<matplotlib.figure.Figure at 0x7f62a46066d8>"
      ]
     },
     "metadata": {
      "needs_background": "light"
     },
     "output_type": "display_data"
    }
   ],
   "source": [
    "level_churn = logs_churn.dropDuplicates([\"userId\", \"level\"]).groupby([\"churn\", \"level\"]).count().sort(\"churn\").toPandas()\n",
    "sns.barplot(x='churn', y='count', hue='level', data=level_churn)\n",
    "plt.title('the number of users for churned and stayed users based on level')"
   ]
  },
  {
   "cell_type": "markdown",
   "metadata": {},
   "source": [
    "It seems that the churned users have got a very high percent from the paid level events compared to the stayed users"
   ]
  },
  {
   "cell_type": "code",
   "execution_count": 42,
   "metadata": {},
   "outputs": [
    {
     "data": {
      "text/plain": [
       "Text(0.5,1,'the number of users for churned and stayed users based on authentication')"
      ]
     },
     "execution_count": 42,
     "metadata": {},
     "output_type": "execute_result"
    },
    {
     "data": {
      "image/png": "[encoded data removed]",
      "text/plain": [
       "<matplotlib.figure.Figure at 0x7f62a4b29908>"
      ]
     },
     "metadata": {
      "needs_background": "light"
     },
     "output_type": "display_data"
    }
   ],
   "source": [
    "auth_churn = logs_churn.dropDuplicates([\"userId\", \"auth\"]).groupby([\"churn\", \"auth\"]).count().sort(\"churn\").toPandas()\n",
    "sns.barplot(x='churn', y='count', hue='auth', data=auth_churn)\n",
    "plt.title('the number of users for churned and stayed users based on authentication')"
   ]
  },
  {
   "cell_type": "code",
   "execution_count": 43,
   "metadata": {},
   "outputs": [
    {
     "data": {
      "text/plain": [
       "Text(0.5,1,'the number of users for churned and stayed users based on method')"
      ]
     },
     "execution_count": 43,
     "metadata": {},
     "output_type": "execute_result"
    },
    {
     "data": {
      "image/png": "[encoded data removed]",
      "text/plain": [
       "<matplotlib.figure.Figure at 0x7f62a458c8d0>"
      ]
     },
     "metadata": {
      "needs_background": "light"
     },
     "output_type": "display_data"
    }
   ],
   "source": [
    "method_churn = logs_churn.dropDuplicates([\"userId\", \"method\"]).groupby([\"churn\", \"method\"]).count().sort(\"churn\").toPandas()\n",
    "sns.barplot(x='churn', y='count', hue='method', data=method_churn)\n",
    "plt.title('the number of users for churned and stayed users based on method')"
   ]
  },
  {
   "cell_type": "markdown",
   "metadata": {},
   "source": [
    "#### explore the page column"
   ]
  },
  {
   "cell_type": "code",
   "execution_count": 44,
   "metadata": {},
   "outputs": [
    {
     "data": {
      "text/plain": [
       "496211"
      ]
     },
     "execution_count": 44,
     "metadata": {},
     "output_type": "execute_result"
    }
   ],
   "source": [
    "#define a new dataframe with churned users only\n",
    "df_churned = logs_churn.filter(logs_churn.churn == True)\n",
    "df_churned.count()"
   ]
  },
  {
   "cell_type": "code",
   "execution_count": 45,
   "metadata": {},
   "outputs": [
    {
     "data": {
      "text/plain": [
       "31794"
      ]
     },
     "execution_count": 45,
     "metadata": {},
     "output_type": "execute_result"
    }
   ],
   "source": [
    "#define new dataframe with stayed users only\n",
    "df_stayed = logs_churn.filter(logs_churn.churn != True)\n",
    "df_stayed.count()"
   ]
  },
  {
   "cell_type": "code",
   "execution_count": 46,
   "metadata": {},
   "outputs": [
    {
     "data": {
      "text/plain": [
       "Text(0.5,1,'the number of events for every page for stayed users')"
      ]
     },
     "execution_count": 46,
     "metadata": {},
     "output_type": "execute_result"
    },
    {
     "data": {
      "image/png": "[encoded data removed]",
      "text/plain": [
       "<matplotlib.figure.Figure at 0x7f62a46fd5f8>"
      ]
     },
     "metadata": {
      "needs_background": "light"
     },
     "output_type": "display_data"
    }
   ],
   "source": [
    "#explore the pages which stayed users use\n",
    "df_level = df_stayed.groupby('page').count().toPandas()\n",
    "fig, ax = plt.subplots(figsize =(10,6))\n",
    "g = sns.barplot(x=\"page\", y=\"count\", data=df_level, ax=ax)\n",
    "plt.setp(g.get_xticklabels(), rotation=90)\n",
    "plt.title('the number of events for every page for stayed users')\n"
   ]
  },
  {
   "cell_type": "code",
   "execution_count": 47,
   "metadata": {},
   "outputs": [
    {
     "data": {
      "text/plain": [
       "Text(0.5,1,'the number of events for every page for churned users')"
      ]
     },
     "execution_count": 47,
     "metadata": {},
     "output_type": "execute_result"
    },
    {
     "data": {
      "image/png": "[encoded data removed]",
      "text/plain": [
       "<matplotlib.figure.Figure at 0x7f62a44f2cc0>"
      ]
     },
     "metadata": {
      "needs_background": "light"
     },
     "output_type": "display_data"
    }
   ],
   "source": [
    "#explore the pages which stayed users use\n",
    "df_level = df_churned.groupby('page').count().toPandas()\n",
    "fig, ax = plt.subplots(figsize =(10,6))\n",
    "g = sns.barplot(x=\"page\", y=\"count\", data=df_level, ax=ax)\n",
    "plt.setp(g.get_xticklabels(), rotation=90)\n",
    "plt.title('the number of events for every page for churned users')\n"
   ]
  },
  {
   "cell_type": "markdown",
   "metadata": {},
   "source": [
    "We can see that the stayed users don't use `Downgrade` or `cancellation confirmation` pages, as what we specify."
   ]
  },
  {
   "cell_type": "markdown",
   "metadata": {},
   "source": [
    "#### Explore number of events, sessions, songs, artists, time period(ts)\n",
    "\n",
    "From these features, I will explore the behavour of churned users and stayed users to find new features"
   ]
  },
  {
   "cell_type": "code",
   "execution_count": 48,
   "metadata": {},
   "outputs": [
    {
     "data": {
      "text/html": [
       "<div>\n",
       "<style scoped>\n",
       "    .dataframe tbody tr th:only-of-type {\n",
       "        vertical-align: middle;\n",
       "    }\n",
       "\n",
       "    .dataframe tbody tr th {\n",
       "        vertical-align: top;\n",
       "    }\n",
       "\n",
       "    .dataframe thead th {\n",
       "        text-align: right;\n",
       "    }\n",
       "</style>\n",
       "<table border=\"1\" class=\"dataframe\">\n",
       "  <thead>\n",
       "    <tr style=\"text-align: right;\">\n",
       "      <th></th>\n",
       "      <th>count</th>\n",
       "    </tr>\n",
       "  </thead>\n",
       "  <tbody>\n",
       "    <tr>\n",
       "      <th>count</th>\n",
       "      <td>326.000000</td>\n",
       "    </tr>\n",
       "    <tr>\n",
       "      <th>mean</th>\n",
       "      <td>1522.119632</td>\n",
       "    </tr>\n",
       "    <tr>\n",
       "      <th>std</th>\n",
       "      <td>1470.538794</td>\n",
       "    </tr>\n",
       "    <tr>\n",
       "      <th>min</th>\n",
       "      <td>13.000000</td>\n",
       "    </tr>\n",
       "    <tr>\n",
       "      <th>25%</th>\n",
       "      <td>504.750000</td>\n",
       "    </tr>\n",
       "    <tr>\n",
       "      <th>50%</th>\n",
       "      <td>1097.500000</td>\n",
       "    </tr>\n",
       "    <tr>\n",
       "      <th>75%</th>\n",
       "      <td>2038.750000</td>\n",
       "    </tr>\n",
       "    <tr>\n",
       "      <th>max</th>\n",
       "      <td>9767.000000</td>\n",
       "    </tr>\n",
       "  </tbody>\n",
       "</table>\n",
       "</div>"
      ],
      "text/plain": [
       "             count\n",
       "count   326.000000\n",
       "mean   1522.119632\n",
       "std    1470.538794\n",
       "min      13.000000\n",
       "25%     504.750000\n",
       "50%    1097.500000\n",
       "75%    2038.750000\n",
       "max    9767.000000"
      ]
     },
     "execution_count": 48,
     "metadata": {},
     "output_type": "execute_result"
    }
   ],
   "source": [
    "#Take a look at the statistics for the number of events per churned user\n",
    "churned_count = df_churned.groupby('userId').count().toPandas()\n",
    "churned_count.describe()"
   ]
  },
  {
   "cell_type": "code",
   "execution_count": 267,
   "metadata": {},
   "outputs": [
    {
     "data": {
      "text/html": [
       "<div>\n",
       "<style scoped>\n",
       "    .dataframe tbody tr th:only-of-type {\n",
       "        vertical-align: middle;\n",
       "    }\n",
       "\n",
       "    .dataframe tbody tr th {\n",
       "        vertical-align: top;\n",
       "    }\n",
       "\n",
       "    .dataframe thead th {\n",
       "        text-align: right;\n",
       "    }\n",
       "</style>\n",
       "<table border=\"1\" class=\"dataframe\">\n",
       "  <thead>\n",
       "    <tr style=\"text-align: right;\">\n",
       "      <th></th>\n",
       "      <th>count</th>\n",
       "    </tr>\n",
       "  </thead>\n",
       "  <tbody>\n",
       "    <tr>\n",
       "      <th>count</th>\n",
       "      <td>122.000000</td>\n",
       "    </tr>\n",
       "    <tr>\n",
       "      <th>mean</th>\n",
       "      <td>260.606557</td>\n",
       "    </tr>\n",
       "    <tr>\n",
       "      <th>std</th>\n",
       "      <td>256.382448</td>\n",
       "    </tr>\n",
       "    <tr>\n",
       "      <th>min</th>\n",
       "      <td>3.000000</td>\n",
       "    </tr>\n",
       "    <tr>\n",
       "      <th>25%</th>\n",
       "      <td>84.500000</td>\n",
       "    </tr>\n",
       "    <tr>\n",
       "      <th>50%</th>\n",
       "      <td>175.000000</td>\n",
       "    </tr>\n",
       "    <tr>\n",
       "      <th>75%</th>\n",
       "      <td>366.000000</td>\n",
       "    </tr>\n",
       "    <tr>\n",
       "      <th>max</th>\n",
       "      <td>1853.000000</td>\n",
       "    </tr>\n",
       "  </tbody>\n",
       "</table>\n",
       "</div>"
      ],
      "text/plain": [
       "             count\n",
       "count   122.000000\n",
       "mean    260.606557\n",
       "std     256.382448\n",
       "min       3.000000\n",
       "25%      84.500000\n",
       "50%     175.000000\n",
       "75%     366.000000\n",
       "max    1853.000000"
      ]
     },
     "execution_count": 267,
     "metadata": {},
     "output_type": "execute_result"
    }
   ],
   "source": [
    "#Take a look at the statistics for the number of events per stayed user\n",
    "stayed_count = df_stayed.groupby('userId').count().toPandas()\n",
    "stayed_count.describe()"
   ]
  },
  {
   "cell_type": "markdown",
   "metadata": {},
   "source": [
    "From the above exploration, we see that the average number of events for churned users is much more than the average number of events for stayed users, we can notice this difference for all statistics from the above tables."
   ]
  },
  {
   "cell_type": "code",
   "execution_count": 272,
   "metadata": {},
   "outputs": [
    {
     "name": "stdout",
     "output_type": "stream",
     "text": [
      "+-------+------------------+\n",
      "|summary|     session_count|\n",
      "+-------+------------------+\n",
      "|  count|               326|\n",
      "|   mean| 16.17484662576687|\n",
      "| stddev|14.166377718694058|\n",
      "|    min|                 1|\n",
      "|    max|                92|\n",
      "+-------+------------------+\n",
      "\n"
     ]
    }
   ],
   "source": [
    "#number of sessions per churned user and showing statistics\n",
    "logs_session = df_churned.select('userId', 'sessionId').dropDuplicates()\\\n",
    ".groupby('userId').count().selectExpr(\"userId\",\"count as session_count\")\n",
    "logs_session.describe('session_count').show()"
   ]
  },
  {
   "cell_type": "code",
   "execution_count": 273,
   "metadata": {},
   "outputs": [
    {
     "name": "stdout",
     "output_type": "stream",
     "text": [
      "+-------+-----------------+\n",
      "|summary|    session_count|\n",
      "+-------+-----------------+\n",
      "|  count|              122|\n",
      "|   mean|6.614754098360656|\n",
      "| stddev|5.896415385795218|\n",
      "|    min|                1|\n",
      "|    max|               32|\n",
      "+-------+-----------------+\n",
      "\n"
     ]
    }
   ],
   "source": [
    "#number of sessions per stayed user and showing statistics\n",
    "logs_session = df_stayed.select('userId', 'sessionId').dropDuplicates()\\\n",
    ".groupby('userId').count().selectExpr(\"userId\",\"count as session_count\")\n",
    "logs_session.describe('session_count').show()"
   ]
  },
  {
   "cell_type": "markdown",
   "metadata": {},
   "source": [
    "from these statistics we can notice that the mean and standard deviation for churned users are(16.17, 14.17), and for stayed users are (6.6, 5.9), which means there is a big difference in this feature"
   ]
  },
  {
   "cell_type": "code",
   "execution_count": 275,
   "metadata": {},
   "outputs": [
    {
     "name": "stdout",
     "output_type": "stream",
     "text": [
      "+-------+------------------+\n",
      "|summary|  avgsongs_session|\n",
      "+-------+------------------+\n",
      "|  count|               326|\n",
      "|   mean| 93.28935695207232|\n",
      "| stddev|43.797859601925815|\n",
      "|    min|              13.0|\n",
      "|    max|             423.0|\n",
      "+-------+------------------+\n",
      "\n"
     ]
    }
   ],
   "source": [
    "#number of songs per session for churned users\n",
    "logs_songs = df_churned.groupby('userId', 'sessionId').count().groupby('userId').agg(F.avg('count'))\n",
    "logs_songs = logs_songs.withColumnRenamed(\"avg(count)\", \"avgsongs_session\")\n",
    "logs_songs.describe('avgsongs_session').show()"
   ]
  },
  {
   "cell_type": "code",
   "execution_count": 50,
   "metadata": {},
   "outputs": [
    {
     "name": "stdout",
     "output_type": "stream",
     "text": [
      "+-------+-----------------+\n",
      "|summary| avgsongs_session|\n",
      "+-------+-----------------+\n",
      "|  count|              122|\n",
      "|   mean|40.24680799040785|\n",
      "| stddev|20.74459104639016|\n",
      "|    min|              3.0|\n",
      "|    max|            128.0|\n",
      "+-------+-----------------+\n",
      "\n"
     ]
    }
   ],
   "source": [
    "#number of songs per session for stayed users\n",
    "logs_songs = df_stayed.groupby('userId', 'sessionId').count().groupby('userId').agg(F.avg('count'))\n",
    "logs_songs = logs_songs.withColumnRenamed(\"avg(count)\", \"avgsongs_session\")\n",
    "logs_songs.describe('avgsongs_session').show()"
   ]
  },
  {
   "cell_type": "markdown",
   "metadata": {},
   "source": [
    "from the above statistics we can see the difference in the mean and standard deviation betwwen the churned and stayed users, that they are (93.3, 44) for churned users, and (40.2, 21) for stayed users."
   ]
  },
  {
   "cell_type": "code",
   "execution_count": 51,
   "metadata": {},
   "outputs": [
    {
     "name": "stdout",
     "output_type": "stream",
     "text": [
      "+-------+-----------------+\n",
      "|summary|    artists_count|\n",
      "+-------+-----------------+\n",
      "|  count|              326|\n",
      "|   mean|840.3895705521472|\n",
      "| stddev|640.3063822518333|\n",
      "|    min|                8|\n",
      "|    max|             3508|\n",
      "+-------+-----------------+\n",
      "\n"
     ]
    }
   ],
   "source": [
    "#number of artists per churned user\n",
    "logs_artists = df_churned.select('userId', 'artist').dropDuplicates()\\\n",
    ".groupby('userId').count().withColumnRenamed('count', 'artists_count')\n",
    "logs_artists.describe('artists_count').show()"
   ]
  },
  {
   "cell_type": "code",
   "execution_count": 52,
   "metadata": {},
   "outputs": [
    {
     "name": "stdout",
     "output_type": "stream",
     "text": [
      "+-------+------------------+\n",
      "|summary|     artists_count|\n",
      "+-------+------------------+\n",
      "|  count|               122|\n",
      "|   mean| 177.9016393442623|\n",
      "| stddev|154.60370077980346|\n",
      "|    min|                 2|\n",
      "|    max|              1005|\n",
      "+-------+------------------+\n",
      "\n"
     ]
    }
   ],
   "source": [
    "#number of artists per stayed user\n",
    "logs_artists = df_stayed.select('userId', 'artist').dropDuplicates()\\\n",
    ".groupby('userId').count().withColumnRenamed('count', 'artists_count')\n",
    "logs_artists.describe('artists_count').show()"
   ]
  },
  {
   "cell_type": "code",
   "execution_count": 60,
   "metadata": {},
   "outputs": [
    {
     "name": "stdout",
     "output_type": "stream",
     "text": [
      "+-------+-----------------+\n",
      "|summary|  thumbs_up_count|\n",
      "+-------+-----------------+\n",
      "|  count|              325|\n",
      "|   mean|69.41230769230769|\n",
      "| stddev|75.38098195596669|\n",
      "|    min|                1|\n",
      "|    max|              506|\n",
      "+-------+-----------------+\n",
      "\n"
     ]
    }
   ],
   "source": [
    "#number of thumbs up for churned users \n",
    "thumbs_up = df_churned.filter(logs_churn.page == 'Thumbs Up').groupby('userId').count()\n",
    "thumbs_up = thumbs_up.withColumnRenamed('count', 'thumbs_up_count')\n",
    "thumbs_up.describe('thumbs_up_count').show()"
   ]
  },
  {
   "cell_type": "code",
   "execution_count": 62,
   "metadata": {},
   "outputs": [
    {
     "name": "stdout",
     "output_type": "stream",
     "text": [
      "+-------+------------------+\n",
      "|summary| thumbs_down_count|\n",
      "+-------+------------------+\n",
      "|  count|               309|\n",
      "|   mean|14.838187702265373|\n",
      "| stddev|14.185678412736856|\n",
      "|    min|                 1|\n",
      "|    max|                80|\n",
      "+-------+------------------+\n",
      "\n"
     ]
    }
   ],
   "source": [
    "#number of thumbs down for churned users\n",
    "thumbs_down = df_churned.filter(logs_churn.page == 'Thumbs Down').groupby('userId').count()\n",
    "thumbs_down = thumbs_down.withColumnRenamed('count', 'thumbs_down_count')\n",
    "thumbs_down.describe('thumbs_down_count').show()"
   ]
  },
  {
   "cell_type": "code",
   "execution_count": 65,
   "metadata": {},
   "outputs": [
    {
     "name": "stdout",
     "output_type": "stream",
     "text": [
      "+-------+------------------+\n",
      "|summary|   thumbs_up_count|\n",
      "+-------+------------------+\n",
      "|  count|               114|\n",
      "|   mean|11.114035087719298|\n",
      "| stddev|11.407774690840807|\n",
      "|    min|                 1|\n",
      "|    max|                80|\n",
      "+-------+------------------+\n",
      "\n"
     ]
    }
   ],
   "source": [
    "#number of thumbs up and down for stayed users \n",
    "thumbs_up = df_stayed.filter(df_stayed.page == 'Thumbs Up').groupby('userId').count()\n",
    "thumbs_up = thumbs_up.withColumnRenamed('count', 'thumbs_up_count')\n",
    "thumbs_up.describe('thumbs_up_count').show()"
   ]
  },
  {
   "cell_type": "code",
   "execution_count": 66,
   "metadata": {},
   "outputs": [
    {
     "name": "stdout",
     "output_type": "stream",
     "text": [
      "+-------+-----------------+\n",
      "|summary|thumbs_down_count|\n",
      "+-------+-----------------+\n",
      "|  count|               80|\n",
      "|   mean|            4.075|\n",
      "| stddev|5.321974983172974|\n",
      "|    min|                1|\n",
      "|    max|               42|\n",
      "+-------+-----------------+\n",
      "\n"
     ]
    }
   ],
   "source": [
    "#number of thumbs down for stayed users\n",
    "thumbs_down = df_stayed.filter(df_stayed.page == 'Thumbs Down').groupby('userId').count()\n",
    "thumbs_down = thumbs_down.withColumnRenamed('count', 'thumbs_down_count')\n",
    "thumbs_down.describe('thumbs_down_count').show()"
   ]
  },
  {
   "cell_type": "code",
   "execution_count": 67,
   "metadata": {},
   "outputs": [
    {
     "name": "stdout",
     "output_type": "stream",
     "text": [
      "+-------+------------------+\n",
      "|summary|avg_period_session|\n",
      "+-------+------------------+\n",
      "|  count|               326|\n",
      "|   mean|318.30009868043226|\n",
      "| stddev|159.69049574662736|\n",
      "|    min|              29.9|\n",
      "|    max|            1502.4|\n",
      "+-------+------------------+\n",
      "\n"
     ]
    }
   ],
   "source": [
    "#the time period for churned users-ts\n",
    "logs_avg_time = df_churned.groupby('userId', 'sessionId')\\\n",
    ".agg(((F.max(df_churned.ts) - F.min(df_churned.ts)) / (1000*60)).alias('period_time'))\n",
    "\n",
    "logs_avg_time = logs_avg_time.groupby('userId').agg(F.avg(logs_avg_time.period_time).alias('avg_period_session')).sort('userId')\n",
    "logs_avg_time.describe('avg_period_session').show()"
   ]
  },
  {
   "cell_type": "code",
   "execution_count": 68,
   "metadata": {},
   "outputs": [
    {
     "name": "stdout",
     "output_type": "stream",
     "text": [
      "+-------+------------------+\n",
      "|summary|avg_period_session|\n",
      "+-------+------------------+\n",
      "|  count|               122|\n",
      "|   mean| 132.8161523430135|\n",
      "| stddev| 77.86187929463007|\n",
      "|    min|13.166666666666666|\n",
      "|    max|415.31666666666666|\n",
      "+-------+------------------+\n",
      "\n"
     ]
    }
   ],
   "source": [
    "#the time period for churned users-ts\n",
    "logs_avg_time = df_stayed.groupby('userId', 'sessionId')\\\n",
    ".agg(((F.max(df_stayed.ts) - F.min(df_stayed.ts)) / (1000*60)).alias('period_time'))\n",
    "\n",
    "logs_avg_time = logs_avg_time.groupby('userId').agg(F.avg(logs_avg_time.period_time).alias('avg_period_session')).sort('userId')\n",
    "logs_avg_time.describe('avg_period_session').show()"
   ]
  },
  {
   "cell_type": "markdown",
   "metadata": {},
   "source": [
    "From these all statisitics, the mean and standard deviations for churned users are different from the stayed users, so these features will help us in building our models."
   ]
  },
  {
   "cell_type": "markdown",
   "metadata": {},
   "source": [
    "#### Explore Location"
   ]
  },
  {
   "cell_type": "code",
   "execution_count": 269,
   "metadata": {},
   "outputs": [
    {
     "data": {
      "text/plain": [
       "Text(0.5,1,'the number of events for every state')"
      ]
     },
     "execution_count": 269,
     "metadata": {},
     "output_type": "execute_result"
    },
    {
     "data": {
      "image/png": "[encoded data removed]",
      "text/plain": [
       "<matplotlib.figure.Figure at 0x7fe23d792048>"
      ]
     },
     "metadata": {
      "needs_background": "light"
     },
     "output_type": "display_data"
    }
   ],
   "source": [
    "#plot number of events for every state for stayed users\n",
    "df_state = df_stayed.groupby('state').count().toPandas()\n",
    "fig, ax = plt.subplots(figsize =(10,6))\n",
    "g = sns.barplot(x=\"state\", y=\"count\", data=df_state)\n",
    "plt.setp(g.get_xticklabels(), rotation=90)\n",
    "plt.title('the number of events for every state for stayed users')"
   ]
  },
  {
   "cell_type": "code",
   "execution_count": 270,
   "metadata": {},
   "outputs": [
    {
     "data": {
      "text/plain": [
       "Text(0.5,1,'the number of events for every state')"
      ]
     },
     "execution_count": 270,
     "metadata": {},
     "output_type": "execute_result"
    },
    {
     "data": {
      "image/png": "[encoded data removed]",
      "text/plain": [
       "<matplotlib.figure.Figure at 0x7fe23d78b0f0>"
      ]
     },
     "metadata": {
      "needs_background": "light"
     },
     "output_type": "display_data"
    }
   ],
   "source": [
    "#plot number of events for every state for churned users \n",
    "df_state = df_churned.groupby('state').count().toPandas()\n",
    "fig, ax = plt.subplots(figsize =(10,6))\n",
    "g = sns.barplot(x=\"state\", y=\"count\", data=df_state)\n",
    "plt.setp(g.get_xticklabels(), rotation=90)\n",
    "plt.title('the number of events for every state for churned users')"
   ]
  },
  {
   "cell_type": "markdown",
   "metadata": {},
   "source": [
    "from comparing between the two plots, we can notice that there is a diffrence between the two distributions for churned users and stayed users in the locations in us states."
   ]
  },
  {
   "cell_type": "markdown",
   "metadata": {},
   "source": [
    "### Conclusion of EDA"
   ]
  },
  {
   "cell_type": "markdown",
   "metadata": {},
   "source": [
    "From the EDA I could see the big diffrence between the behavour of churned users and stayed users, for all features I created in this section there is a diffrence that will help us in building machine learning models so I will choose these features in building our models:\n",
    "1. Gender\n",
    "2. Level (Paid or free)\n",
    "3. Number of sessions per user\n",
    "4. Number of songs per session\n",
    "5. Number of artists per user\n",
    "6. Number of thumbs up and down per user\n",
    "7. Average time for every session per user\n",
    "8. State(Location)"
   ]
  },
  {
   "cell_type": "markdown",
   "metadata": {},
   "source": [
    "## Feature Engineering\n"
   ]
  },
  {
   "cell_type": "markdown",
   "metadata": {},
   "source": [
    "Now, I have been built intuition abut the data, it is the time to built the features to train machine learning model"
   ]
  },
  {
   "cell_type": "markdown",
   "metadata": {},
   "source": [
    "### Feature 1 : Gender"
   ]
  },
  {
   "cell_type": "markdown",
   "metadata": {},
   "source": [
    "I will convert gender feature to be numeric to use it in my model"
   ]
  },
  {
   "cell_type": "code",
   "execution_count": 214,
   "metadata": {},
   "outputs": [],
   "source": [
    "logs_churn = logs_churn.replace([\"M\", \"F\"], [\"0\", \"1\"], \"gender\")\n",
    "logs_gender = logs_churn.select('userId',logs_churn.gender.cast(\"int\"))\n"
   ]
  },
  {
   "cell_type": "code",
   "execution_count": 215,
   "metadata": {},
   "outputs": [
    {
     "name": "stdout",
     "output_type": "stream",
     "text": [
      "+------+------+\n",
      "|userId|gender|\n",
      "+------+------+\n",
      "|   293|     0|\n",
      "|    98|     0|\n",
      "|   179|     0|\n",
      "|   179|     0|\n",
      "|   246|     1|\n",
      "|   163|     1|\n",
      "|   179|     0|\n",
      "|   175|     1|\n",
      "|   100|     0|\n",
      "|   100|     0|\n",
      "|   163|     1|\n",
      "|   246|     1|\n",
      "|   179|     0|\n",
      "|    39|     1|\n",
      "|   163|     1|\n",
      "|   179|     0|\n",
      "|    98|     0|\n",
      "|   175|     1|\n",
      "|    98|     0|\n",
      "|   100|     0|\n",
      "+------+------+\n",
      "only showing top 20 rows\n",
      "\n"
     ]
    }
   ],
   "source": [
    "logs_gender.show()"
   ]
  },
  {
   "cell_type": "markdown",
   "metadata": {},
   "source": [
    "### Feature 2 : Paid or Free user"
   ]
  },
  {
   "cell_type": "code",
   "execution_count": 216,
   "metadata": {},
   "outputs": [
    {
     "name": "stdout",
     "output_type": "stream",
     "text": [
      "+------+-----+-------------+\n",
      "|userId|level|  recent_time|\n",
      "+------+-----+-------------+\n",
      "|    10| paid|1539055364000|\n",
      "|   100| paid|1543606468000|\n",
      "|   100| free|1538477683000|\n",
      "|100001| free|1538491859000|\n",
      "|100002| free|1541146660000|\n",
      "|100002| paid|1541146209000|\n",
      "|100003| paid|1541661592000|\n",
      "|100003| free|1540678787000|\n",
      "|100004| free|1539511980000|\n",
      "|100005| free|1538820679000|\n",
      "|100006| free|1543622360000|\n",
      "|100006| paid|1541636185000|\n",
      "|100007| free|1543483022000|\n",
      "|100007| paid|1543451434000|\n",
      "|100008| paid|1543622405000|\n",
      "|100009| free|1541369693000|\n",
      "|100009| paid|1543408478000|\n",
      "|100010| free|1539254318000|\n",
      "|100011| paid|1542839733000|\n",
      "|100011| free|1542830547000|\n",
      "+------+-----+-------------+\n",
      "only showing top 20 rows\n",
      "\n"
     ]
    }
   ],
   "source": [
    "logs_level = logs_churn.groupby(\"userId\", \"level\").agg(F.max(logs_churn.ts).alias(\"recent_time\")).sort(\"userId\")\n",
    "\n",
    "logs_level.show()"
   ]
  },
  {
   "cell_type": "code",
   "execution_count": 217,
   "metadata": {},
   "outputs": [
    {
     "name": "stdout",
     "output_type": "stream",
     "text": [
      "+------+-----+\n",
      "|userId|level|\n",
      "+------+-----+\n",
      "|    10| paid|\n",
      "|   100| paid|\n",
      "|100001| free|\n",
      "|100002| free|\n",
      "|100003| paid|\n",
      "|100004| free|\n",
      "|100005| free|\n",
      "|100006| free|\n",
      "|100007| free|\n",
      "|100008| paid|\n",
      "|100009| paid|\n",
      "|100010| free|\n",
      "|100011| paid|\n",
      "|100012| free|\n",
      "|100013| free|\n",
      "|100014| paid|\n",
      "|100015| free|\n",
      "|100016| paid|\n",
      "|100017| free|\n",
      "|100018| free|\n",
      "+------+-----+\n",
      "only showing top 20 rows\n",
      "\n"
     ]
    }
   ],
   "source": [
    "w = Window.partitionBy('userId')\n",
    "logs_level = logs_level.withColumn('maxB', F.max('recent_time').over(w))\\\n",
    "    .where(F.col('recent_time') == F.col('maxB'))\\\n",
    "    .drop('maxB')\n",
    "logs_level = logs_level.select('userId', 'level')\n",
    "logs_level.show()"
   ]
  },
  {
   "cell_type": "markdown",
   "metadata": {},
   "source": [
    "### Feature 3 : number of sessions per user"
   ]
  },
  {
   "cell_type": "code",
   "execution_count": 218,
   "metadata": {},
   "outputs": [
    {
     "name": "stdout",
     "output_type": "stream",
     "text": [
      "+------+-------------+\n",
      "|userId|session_count|\n",
      "+------+-------------+\n",
      "|200002|            5|\n",
      "|   296|            5|\n",
      "|100010|            2|\n",
      "|   125|            3|\n",
      "|     7|           15|\n",
      "|   124|           17|\n",
      "|    51|            5|\n",
      "|200037|            7|\n",
      "|   205|            5|\n",
      "|   169|            8|\n",
      "|   272|            2|\n",
      "|   282|           29|\n",
      "|    15|           18|\n",
      "|    54|            8|\n",
      "|   234|           26|\n",
      "|   232|           23|\n",
      "|200043|           12|\n",
      "|   155|            4|\n",
      "|100014|            4|\n",
      "|   154|            4|\n",
      "+------+-------------+\n",
      "only showing top 20 rows\n",
      "\n"
     ]
    }
   ],
   "source": [
    "logs_session = logs_churn.select('userId', 'sessionId').dropDuplicates()\\\n",
    ".groupby('userId').count().selectExpr(\"userId\",\"count as session_count\")\n",
    "logs_session.show()"
   ]
  },
  {
   "cell_type": "markdown",
   "metadata": {},
   "source": [
    "#### Feature 4 : Number of songs per session"
   ]
  },
  {
   "cell_type": "code",
   "execution_count": 219,
   "metadata": {},
   "outputs": [],
   "source": [
    "logs_songs = logs_churn.groupby('userId', 'sessionId').count().groupby('userId').agg(F.avg('count'))\n",
    "logs_songs = logs_songs.withColumnRenamed(\"avg(count)\", \"avgsongs_session\")"
   ]
  },
  {
   "cell_type": "code",
   "execution_count": 220,
   "metadata": {},
   "outputs": [
    {
     "name": "stdout",
     "output_type": "stream",
     "text": [
      "+------+------------------+\n",
      "|userId|  avgsongs_session|\n",
      "+------+------------------+\n",
      "|200002|              79.0|\n",
      "|   296|              30.4|\n",
      "|100010|              68.5|\n",
      "|   125|              28.0|\n",
      "|     7|              40.0|\n",
      "|   124|126.82352941176471|\n",
      "|    51|              65.6|\n",
      "|200037|22.142857142857142|\n",
      "|   205|             248.8|\n",
      "|   169|            18.625|\n",
      "|   272|              65.5|\n",
      "|   282|110.03448275862068|\n",
      "|    15|120.72222222222223|\n",
      "|    54|              78.0|\n",
      "|   234| 77.73076923076923|\n",
      "|   232|101.08695652173913|\n",
      "|200043| 67.33333333333333|\n",
      "|   155|              43.0|\n",
      "|100014|             101.5|\n",
      "|   154|              31.5|\n",
      "+------+------------------+\n",
      "only showing top 20 rows\n",
      "\n"
     ]
    }
   ],
   "source": [
    "logs_songs.show()"
   ]
  },
  {
   "cell_type": "markdown",
   "metadata": {},
   "source": [
    "#### Feature 5: Number of artists per user"
   ]
  },
  {
   "cell_type": "code",
   "execution_count": 221,
   "metadata": {},
   "outputs": [],
   "source": [
    "logs_artists = logs_churn.select('userId', 'artist').dropDuplicates()\\\n",
    ".groupby('userId').count().withColumnRenamed('count', 'artists_count')"
   ]
  },
  {
   "cell_type": "code",
   "execution_count": 222,
   "metadata": {},
   "outputs": [
    {
     "name": "stdout",
     "output_type": "stream",
     "text": [
      "+------+-------------+\n",
      "|userId|artists_count|\n",
      "+------+-------------+\n",
      "|   296|          109|\n",
      "|100010|           95|\n",
      "|200002|          288|\n",
      "|   125|           62|\n",
      "|   124|         1241|\n",
      "|    51|          234|\n",
      "|     7|          408|\n",
      "|200037|          115|\n",
      "|   205|          804|\n",
      "|   169|          112|\n",
      "|   272|           94|\n",
      "|    54|          439|\n",
      "|   234|         1174|\n",
      "|   282|         1642|\n",
      "|    15|         1287|\n",
      "|   232|         1281|\n",
      "|   155|          134|\n",
      "|200043|          513|\n",
      "|   132|          107|\n",
      "|100014|          293|\n",
      "+------+-------------+\n",
      "only showing top 20 rows\n",
      "\n"
     ]
    }
   ],
   "source": [
    "logs_artists.show()"
   ]
  },
  {
   "cell_type": "markdown",
   "metadata": {},
   "source": [
    "#### Feature 5: average time per session for every user"
   ]
  },
  {
   "cell_type": "code",
   "execution_count": 223,
   "metadata": {},
   "outputs": [],
   "source": [
    "logs_avg_time = logs_churn.groupby('userId', 'sessionId')\\\n",
    ".agg(((F.max(logs_churn.ts) - F.min(logs_churn.ts)) / (1000*60)).alias('period_time'))\n",
    "\n",
    "logs_avg_time = logs_avg_time.groupby('userId').agg(F.avg(logs_avg_time.period_time).alias('avg_period_session')).sort('userId')"
   ]
  },
  {
   "cell_type": "code",
   "execution_count": 224,
   "metadata": {},
   "outputs": [
    {
     "name": "stdout",
     "output_type": "stream",
     "text": [
      "+------+------------------+\n",
      "|userId|avg_period_session|\n",
      "+------+------------------+\n",
      "|    10|            1502.4|\n",
      "|   100|350.47777777777776|\n",
      "|100001|137.66111111111113|\n",
      "|100002|          150.2625|\n",
      "|100003|296.92777777777775|\n",
      "|100004|222.09666666666664|\n",
      "|100005|139.03333333333333|\n",
      "|100006| 235.9766666666667|\n",
      "|100007|288.90138888888885|\n",
      "|100008| 262.2944444444444|\n",
      "|100009|402.92999999999995|\n",
      "|100010|           210.375|\n",
      "|100011|208.92583333333337|\n",
      "|100012| 72.28055555555555|\n",
      "|100013| 75.41666666666667|\n",
      "|100014|           348.975|\n",
      "|100015|126.88076923076923|\n",
      "|100016|113.63333333333333|\n",
      "|100017|270.40833333333336|\n",
      "|100018| 258.6166666666667|\n",
      "+------+------------------+\n",
      "only showing top 20 rows\n",
      "\n"
     ]
    }
   ],
   "source": [
    "logs_avg_time.show()"
   ]
  },
  {
   "cell_type": "markdown",
   "metadata": {},
   "source": [
    "#### Feature 8: Number of thumbs up and thumbs down per user"
   ]
  },
  {
   "cell_type": "code",
   "execution_count": 53,
   "metadata": {},
   "outputs": [],
   "source": [
    "thumbs_up = logs_churn.filter(logs_churn.page == 'Thumbs Up').groupby('userId').count()\n",
    "thumbs_up = thumbs_up.withColumnRenamed('count', 'thumbs_up_count')"
   ]
  },
  {
   "cell_type": "code",
   "execution_count": 54,
   "metadata": {},
   "outputs": [],
   "source": [
    "thumbs_down = logs_churn.filter(logs_churn.page == 'Thumbs Down').groupby('userId').count()\n",
    "thumbs_down = thumbs_down.withColumnRenamed('count', 'thumbs_down_count')"
   ]
  },
  {
   "cell_type": "code",
   "execution_count": 55,
   "metadata": {},
   "outputs": [
    {
     "name": "stdout",
     "output_type": "stream",
     "text": [
      "+------+---------------+\n",
      "|userId|thumbs_up_count|\n",
      "+------+---------------+\n",
      "|   296|              8|\n",
      "|100010|              4|\n",
      "|200002|             15|\n",
      "|   125|              3|\n",
      "|    51|             16|\n",
      "+------+---------------+\n",
      "only showing top 5 rows\n",
      "\n"
     ]
    }
   ],
   "source": [
    "thumbs_up.show(n=5)"
   ]
  },
  {
   "cell_type": "code",
   "execution_count": 56,
   "metadata": {},
   "outputs": [
    {
     "name": "stdout",
     "output_type": "stream",
     "text": [
      "+------+-----------------+\n",
      "|userId|thumbs_down_count|\n",
      "+------+-----------------+\n",
      "|100010|                3|\n",
      "|200002|                5|\n",
      "|   125|                1|\n",
      "|   124|               15|\n",
      "|    51|                1|\n",
      "+------+-----------------+\n",
      "only showing top 5 rows\n",
      "\n"
     ]
    }
   ],
   "source": [
    "thumbs_down.show(n=5)"
   ]
  },
  {
   "cell_type": "markdown",
   "metadata": {},
   "source": [
    "#### Feature 9: state"
   ]
  },
  {
   "cell_type": "code",
   "execution_count": 229,
   "metadata": {},
   "outputs": [],
   "source": [
    "logs_location = logs_churn.select('userId', 'state').dropDuplicates().sort('userId')\n"
   ]
  },
  {
   "cell_type": "code",
   "execution_count": 230,
   "metadata": {},
   "outputs": [
    {
     "name": "stdout",
     "output_type": "stream",
     "text": [
      "+------+-----+\n",
      "|userId|state|\n",
      "+------+-----+\n",
      "|    10|   MS|\n",
      "|   100|   TX|\n",
      "|100001|   FL|\n",
      "|100002|   CA|\n",
      "|100003|   FL|\n",
      "+------+-----+\n",
      "only showing top 5 rows\n",
      "\n"
     ]
    }
   ],
   "source": [
    "logs_location.show(n=5)"
   ]
  },
  {
   "cell_type": "markdown",
   "metadata": {},
   "source": [
    "#### Label: churn"
   ]
  },
  {
   "cell_type": "code",
   "execution_count": 231,
   "metadata": {},
   "outputs": [],
   "source": [
    "churn = logs_churn.select(\"userId\", \"churn\").dropDuplicates()\n",
    "churn = churn.select(\"userId\", churn.churn.cast(\"int\"))\n"
   ]
  },
  {
   "cell_type": "code",
   "execution_count": 232,
   "metadata": {},
   "outputs": [
    {
     "name": "stdout",
     "output_type": "stream",
     "text": [
      "+------+-----+\n",
      "|userId|churn|\n",
      "+------+-----+\n",
      "|    73|    0|\n",
      "|    69|    1|\n",
      "|    19|    0|\n",
      "|   139|    1|\n",
      "|   300|    1|\n",
      "+------+-----+\n",
      "only showing top 5 rows\n",
      "\n"
     ]
    }
   ],
   "source": [
    "churn.show(n=5)"
   ]
  },
  {
   "cell_type": "code",
   "execution_count": 233,
   "metadata": {},
   "outputs": [
    {
     "data": {
      "text/plain": [
       "DataFrame[userId: string, gender: int, session_count: bigint, level: string, avgsongs_session: double, artists_count: bigint, avg_period_session: double, thumbs_up_count: bigint, thumbs_down_count: bigint, state: string, churn: int]"
      ]
     },
     "execution_count": 233,
     "metadata": {},
     "output_type": "execute_result"
    }
   ],
   "source": [
    "#define list to save all features in\n",
    "dataframes = []\n",
    "dataframes.append(logs_gender)\n",
    "dataframes.append(logs_session)\n",
    "dataframes.append(logs_level)\n",
    "dataframes.append(logs_songs)\n",
    "dataframes.append(logs_artists)\n",
    "dataframes.append(logs_avg_time)\n",
    "dataframes.append(thumbs_up)\n",
    "dataframes.append(thumbs_down)\n",
    "dataframes.append(logs_location)\n",
    "dataframes.append(churn)\n",
    "\n",
    "#extract the userids from the dataset\n",
    "df = logs_churn.select(\"userId\").dropDuplicates()\n",
    "\n",
    "#join every feature with the original userIds\n",
    "for dataframe in dataframes:\n",
    "    dataframe = dataframe.withColumnRenamed(\"userId\", \"Id\")\n",
    "    df = df.join(dataframe, df.userId == dataframe.Id, \"left\").drop(\"Id\")\n",
    "\n",
    "df = df.dropDuplicates().sort('userId')\n",
    "df = df.fillna(0, subset = ['thumbs_up_count'])\n",
    "df = df.fillna(0, subset =['thumbs_down_count'])\n",
    "df.persist()"
   ]
  },
  {
   "cell_type": "code",
   "execution_count": 234,
   "metadata": {},
   "outputs": [
    {
     "name": "stdout",
     "output_type": "stream",
     "text": [
      "The number of missing values in thumbs_up_count column:\n",
      "0\n",
      "The number of missing values in thumbs_down_count column:\n",
      "0\n"
     ]
    }
   ],
   "source": [
    "#checking the missing values in thumbs_up and thumbs_down columns\n",
    "print('The number of missing values in thumbs_up_count column:')\n",
    "\n",
    "print(df.select('thumbs_up_count').withColumn('isNull_up',F.col('thumbs_up_count')\\\n",
    "                                              .isNull()).where('isNull_up = True').count())\n",
    "\n",
    "print('The number of missing values in thumbs_down_count column:')\n",
    "\n",
    "print(df.select('thumbs_down_count').withColumn('isNull_down',F.col('thumbs_down_count')\\\n",
    "                                              .isNull()).where('isNull_down = True').count())\n"
   ]
  },
  {
   "cell_type": "code",
   "execution_count": 235,
   "metadata": {},
   "outputs": [
    {
     "name": "stdout",
     "output_type": "stream",
     "text": [
      "+------+------+-------------+-----+------------------+-------------+------------------+---------------+-----------------+-----+-----+\n",
      "|userId|gender|session_count|level|  avgsongs_session|artists_count|avg_period_session|thumbs_up_count|thumbs_down_count|state|churn|\n",
      "+------+------+-------------+-----+------------------+-------------+------------------+---------------+-----------------+-----+-----+\n",
      "|    10|     0|            1| paid|             423.0|          307|            1502.4|             17|                1|   MS|    1|\n",
      "|   100|     0|           39| paid|102.53846153846153|         1964|350.47777777777776|            143|               37|   TX|    1|\n",
      "|100001|     1|            3| free|44.666666666666664|           94|137.66111111111113|              5|                1|   FL|    1|\n",
      "+------+------+-------------+-----+------------------+-------------+------------------+---------------+-----------------+-----+-----+\n",
      "only showing top 3 rows\n",
      "\n"
     ]
    }
   ],
   "source": [
    "df.show(n=3)"
   ]
  },
  {
   "cell_type": "markdown",
   "metadata": {},
   "source": [
    "This is the function for feature engineering :"
   ]
  },
  {
   "cell_type": "code",
   "execution_count": 100,
   "metadata": {},
   "outputs": [],
   "source": [
    "def feature_ml(df):\n",
    "    '''\n",
    "    This function for building the new dataframe that handles the best features that are suitable\n",
    "    for building machine learning models to predict if the user will churn or not\n",
    "    \n",
    "    INPUT:\n",
    "    df -> the cleaned dataframe handles all features in the original dataset\n",
    "    \n",
    "    OUTPUT:\n",
    "    df_new -> the new datafrmae with the new feature that are suitable for building ML models\n",
    "    '''\n",
    "    \n",
    "    #gender feature\n",
    "    df = df.replace([\"M\", \"F\"], [\"0\", \"1\"], \"gender\")\n",
    "    logs_gender = df.select('userId',df.gender.cast(\"int\"))\n",
    "    \n",
    "    #level feature\n",
    "    logs_level = df.groupby(\"userId\", \"level\").agg(F.max(df.ts).alias(\"recent_time\")).sort(\"userId\")\n",
    "    w = Window.partitionBy('userId')\n",
    "    logs_level = logs_level.withColumn('maxB', F.max('recent_time').over(w))\\\n",
    "        .where(F.col('recent_time') == F.col('maxB'))\\\n",
    "        .drop('maxB')\n",
    "    logs_level = logs_level.select('userId', 'level')\n",
    "    \n",
    "    #number of sessions per user feature\n",
    "    logs_session = df.select('userId', 'sessionId').dropDuplicates()\\\n",
    "    .groupby('userId').count().selectExpr(\"userId\",\"count as session_count\")\n",
    "    \n",
    "    #number of songs per session for every user feature\n",
    "    logs_songs = df.groupby('userId', 'sessionId').count().groupby('userId').agg(F.avg('count'))\n",
    "    logs_songs = logs_songs.withColumnRenamed(\"avg(count)\", \"avgsongs_session\")\n",
    "    \n",
    "    #number of artists per user\n",
    "    logs_artists = df.select('userId', 'artist').dropDuplicates()\\\n",
    "    .groupby('userId').count().withColumnRenamed('count', 'artists_count')\n",
    "    \n",
    "    #average time per session for every user\n",
    "    logs_avg_time = df.groupby('userId', 'sessionId')\\\n",
    "    .agg(((F.max(df.ts) - F.min(df.ts)) / (1000*60)).alias('period_time'))\n",
    "\n",
    "    logs_avg_time = logs_avg_time.groupby('userId').agg(F.avg(logs_avg_time.period_time).alias('avg_period_session')).sort('userId')\n",
    "    \n",
    "    #number of thumbs up and thumbs down per user\n",
    "    thumbs_up = df.filter(df.page == 'Thumbs Up').groupby('userId').count()\n",
    "    thumbs_up = thumbs_up.withColumnRenamed('count', 'thumbs_up_count')\n",
    "    \n",
    "    thumbs_down = df.filter(df.page == 'Thumbs Down').groupby('userId').count()\n",
    "    thumbs_down = thumbs_down.withColumnRenamed('count', 'thumbs_down_count')\n",
    "    \n",
    "    #us-state feature\n",
    "    logs_location = df.select('userId', 'state').dropDuplicates().sort('userId')\n",
    "    \n",
    "    #convert label to integer type\n",
    "    churn = df.select(\"userId\", \"churn\").dropDuplicates()\n",
    "    churn = churn.select(\"userId\", churn.churn.cast(\"int\"))\n",
    "\n",
    "\n",
    "    #define list to save all features in\n",
    "    dataframes = []\n",
    "    dataframes.append(logs_gender)\n",
    "    dataframes.append(logs_session)\n",
    "    dataframes.append(logs_level)\n",
    "    dataframes.append(logs_songs)\n",
    "    dataframes.append(logs_artists)\n",
    "    dataframes.append(logs_avg_time)\n",
    "    dataframes.append(thumbs_up)\n",
    "    dataframes.append(thumbs_down)\n",
    "    dataframes.append(logs_location)\n",
    "    dataframes.append(churn)\n",
    "\n",
    "    #extract the userids from the dataset\n",
    "    df = df.select(\"userId\").dropDuplicates()\n",
    "\n",
    "    #join every feature with the original userIds\n",
    "    for dataframe in dataframes:\n",
    "        dataframe = dataframe.withColumnRenamed(\"userId\", \"Id\")\n",
    "        df = df.join(dataframe, df.userId == dataframe.Id, \"left\").drop(\"Id\")\n",
    "\n",
    "    df_new = df.dropDuplicates().sort('userId')\n",
    "    df_new = df_new.fillna(0, subset = ['thumbs_up_count'])\n",
    "    df_new = df_new.fillna(0, subset =['thumbs_down_count'])\n",
    "    \n",
    "    return df_new\n",
    "    \n"
   ]
  },
  {
   "cell_type": "code",
   "execution_count": 238,
   "metadata": {},
   "outputs": [],
   "source": [
    "#write the machine learning data on a new file\n",
    "df.write.save('ml_data_medium1.csv', format=\"csv\", header=True)\n"
   ]
  },
  {
   "cell_type": "code",
   "execution_count": 69,
   "metadata": {},
   "outputs": [
    {
     "data": {
      "text/plain": [
       "DataFrame[userId: string, gender: string, session_count: string, level: string, avgsongs_session: string, artists_count: string, avg_period_session: string, thumbs_up_count: string, thumbs_down_count: string, state: string, churn: string]"
      ]
     },
     "execution_count": 69,
     "metadata": {},
     "output_type": "execute_result"
    }
   ],
   "source": [
    "#read the data from the file\n",
    "df = spark.read.csv('ml_data_medium1.csv', header=True)\n",
    "df.persist()"
   ]
  },
  {
   "cell_type": "code",
   "execution_count": 70,
   "metadata": {},
   "outputs": [
    {
     "name": "stdout",
     "output_type": "stream",
     "text": [
      "userId 0\n",
      "gender 0\n",
      "session_count 0\n",
      "level 0\n",
      "avgsongs_session 0\n",
      "artists_count 0\n",
      "avg_period_session 0\n",
      "thumbs_up_count 0\n",
      "thumbs_down_count 0\n",
      "state 0\n",
      "churn 0\n"
     ]
    }
   ],
   "source": [
    "columns = df.describe().columns[1:]\n",
    "for col in columns:\n",
    "    print(col, df.select(['userId']).where(df[col].isNull()).count())"
   ]
  },
  {
   "cell_type": "code",
   "execution_count": 71,
   "metadata": {},
   "outputs": [],
   "source": [
    "#convert the features types for numeric values from string to float\n",
    "numeric_features = ['session_count', 'avgsongs_session', 'artists_count', 'thumbs_up_count','thumbs_down_count', 'churn']\n",
    "for feature in numeric_features:\n",
    "    \n",
    "    df = df.withColumn('cast_'+feature, df[feature].cast('float') )\n",
    "    df = df.drop(feature)\n",
    "    \n",
    "df = df.withColumnRenamed('cast_churn', 'label')    "
   ]
  },
  {
   "cell_type": "markdown",
   "metadata": {},
   "source": [
    "Now our datasets is ready for applying machine learning techinques like transformation, estimation, validation, and evaluation"
   ]
  },
  {
   "cell_type": "markdown",
   "metadata": {},
   "source": [
    "## Modeling\n",
    "\n",
    "### Split into Train, Test, and Validation Sets"
   ]
  },
  {
   "cell_type": "code",
   "execution_count": 72,
   "metadata": {},
   "outputs": [],
   "source": [
    "#split dataset into train-60% ,test-20% ,validation-20%\n",
    "train, test_valid = df.randomSplit([0.6, 0.4], seed = 42)\n",
    "test, validation = test_valid.randomSplit([0.5, 0.5], seed = 42)\n"
   ]
  },
  {
   "cell_type": "markdown",
   "metadata": {},
   "source": [
    "### Create Machine Learning Pipelines"
   ]
  },
  {
   "cell_type": "code",
   "execution_count": 95,
   "metadata": {},
   "outputs": [],
   "source": [
    "index = SparkContext.accumulator(0,0)\n",
    "def add_index():\n",
    "    global index\n",
    "    index += 1"
   ]
  },
  {
   "cell_type": "code",
   "execution_count": 98,
   "metadata": {},
   "outputs": [],
   "source": [
    "def ml_pipeline(train, test, validation):\n",
    "    '''\n",
    "    This function is for building machine learning pipeline, fitting the model on train dataset, \n",
    "    and evaluating the pipeline on train dataset and test dataset using f1 score and accuracy\n",
    "    \n",
    "    INPUT:\n",
    "    train ->  the train dataset which is 60% from all dataset\n",
    "    test -> the test dataset which is 20% from all dataset\n",
    "    validation -> the validation dataset which is 20% from all dataset\n",
    "    \n",
    "    OUTPUT:\n",
    "    printing the f1 score and accuary for all estimators(random forest, logistic regressio, gradient boosting)\n",
    "    \n",
    "    accuracy_list -> list handles the accuacy for all estimators on test dataset\n",
    "    f1_list -> list handles the f1 score for all estimators on test dataset\n",
    "    \n",
    "    '''\n",
    "    \n",
    "    accuracy_list = []\n",
    "    f1_list = []\n",
    "    \n",
    "    gender_indexer = StringIndexer(inputCol=\"gender\", outputCol=\"genderindex\", handleInvalid = 'skip')\n",
    "    state_indexer = StringIndexer(inputCol = \"state\", outputCol = \"stateindex\", handleInvalid = 'skip')\n",
    "    level_indexer = StringIndexer(inputCol = \"level\", outputCol = \"levelindex\", handleInvalid = 'skip')\n",
    "\n",
    "    # maps a column of category indices to a column of binary vectors\n",
    "    #https://spark.apache.org/docs/2.3.0/api/java/index.html?org/apache/spark/ml/feature/OneHotEncoderEstimator.html\n",
    "\n",
    "    encoder = OneHotEncoderEstimator(inputCols=[\"genderindex\", \"levelindex\", \"stateindex\"],\n",
    "                                       outputCols=[\"genderV\", \"levelV\", \"stateV\"], handleInvalid = 'keep')\n",
    "\n",
    "    # create vector of features\n",
    "    features = ['genderV', 'levelV', 'stateV', 'cast_session_count', 'cast_avgsongs_session',\n",
    "                'cast_artists_count', 'cast_thumbs_up_count', 'cast_thumbs_down_count']\n",
    "\n",
    "    #combine the features into a vector\n",
    "    assembler = VectorAssembler(inputCols=features, outputCol=\"features\")\n",
    "    \n",
    "    #normalize the numeric features\n",
    "    scalar = MinMaxScaler(inputCol=\"features\", outputCol=\"scaled_features\")\n",
    "\n",
    "    \n",
    "    # initialize random forest, logistic regression, gradient boosting classifiers\n",
    "    rf = RandomForestClassifier(labelCol=\"label\", featuresCol=\"scaled_features\", numTrees=10)\n",
    "    lr = LogisticRegression(maxIter=10, regParam=0.3, elasticNetParam=0.8, family=\"multinomial\", labelCol=\"label\", featuresCol=\"scaled_features\")\n",
    "    gbt = GBTClassifier(labelCol=\"label\", featuresCol=\"scaled_features\", maxIter=10)\n",
    "    \n",
    "    estimators = [rf, lr, gbt]\n",
    "    names = ['random forest', 'logistic regression', 'gradient boosting']\n",
    "    \n",
    "    for estimator in estimators:\n",
    "        \n",
    "        # assemble pipeline\n",
    "        pipeline = Pipeline(stages = [gender_indexer, state_indexer, level_indexer, encoder, assembler,scalar, estimator])\n",
    "        model = pipeline.fit(train)\n",
    "        pred_train = model.transform(train)\n",
    "        pred_test = model.transform(test)\n",
    "        \n",
    "        #evaluate machine learning pipeline performance on train dataset\n",
    "        \n",
    "        f1_eval_train = MulticlassClassificationEvaluator(metricName=\"f1\")\n",
    "        print('F1 score on train dataset using {} classifier is {}. '.format(names[index.value], f1_eval_train.evaluate(pred_train))) \n",
    "        \n",
    "        acc_train = pred_train.filter(pred_train.label == pred_train.prediction).count() / pred_train.count()\n",
    "        print('accuracy on train data using {} classifier is {} '.format(names[index.value], acc_train))\n",
    "              \n",
    "        #evaluate the model using ROC metric\n",
    "        eval_roc_train = BinaryClassificationEvaluator(rawPredictionCol=\"prediction\",labelCol=\"label\")\n",
    "        print(\"The area under ROC for train set using {} classifier is {}\".format(names[index.value], eval_roc_train.evaluate(pred_train)))\n",
    "              \n",
    "        print('--------')\n",
    "        #evaluate machine learning pipeline performance on test dataset\n",
    "        \n",
    "        f1_eval_test = MulticlassClassificationEvaluator(metricName=\"f1\")\n",
    "        print('F1 score on test dataset using {} classifier is {}. '.format(names[index.value], f1_eval_test.evaluate(pred_test)))\n",
    "        f1_list.append(f1_eval_test.evaluate(pred_test))\n",
    "        \n",
    "        acc_test = pred_test.filter(pred_test.label == pred_test.prediction).count() / pred_test.count()\n",
    "        print('accuracy on test data using {} classifier is {}'.format(names[index.value], acc_test))\n",
    "        accuracy_list.append(acc_test)\n",
    "        \n",
    "        #evaluate the model using ROC metric\n",
    "        eval_roc_test=BinaryClassificationEvaluator(rawPredictionCol=\"prediction\",labelCol=\"label\")\n",
    "        print(\"The area under ROC for test set using {} classifier is {}\".format(names[index.value], eval_roc_test.evaluate(pred_test)))\n",
    "        \n",
    "        print('-------------------------------------------------------------------------------')\n",
    "        print('-------------------------------------------------------------------------------')\n",
    "       \n",
    "        add_index()\n",
    "    return accuracy_list, f1_list"
   ]
  },
  {
   "cell_type": "code",
   "execution_count": 97,
   "metadata": {},
   "outputs": [
    {
     "name": "stdout",
     "output_type": "stream",
     "text": [
      "F1 score on train dataset using random forest classifier is 0.923891510304238. \n",
      "accuracy on train data using random forest classifier is 0.9250936329588015 \n",
      "The area under ROC for train set using random forest classifier is 0.8854850746268657\n",
      "--------\n",
      "F1 score on test dataset using random forest classifier is 0.8041695146958305. \n",
      "accuracy on test data using random forest classifier is 0.8068181818181818\n",
      "The area under ROC for test set using random forest classifier is 0.7729885057471265\n",
      "-------------------------------------------------------------------------------\n",
      "-------------------------------------------------------------------------------\n",
      "F1 score on train dataset using logistic regression classifier is 0.6415962915734348. \n",
      "accuracy on train data using logistic regression classifier is 0.7490636704119851 \n",
      "The area under ROC for train set using logistic regression classifier is 0.5\n",
      "--------\n",
      "F1 score on test dataset using logistic regression classifier is 0.5236612702366127. \n",
      "accuracy on test data using logistic regression classifier is 0.6590909090909091\n",
      "The area under ROC for test set using logistic regression classifier is 0.5\n",
      "-------------------------------------------------------------------------------\n",
      "-------------------------------------------------------------------------------\n",
      "F1 score on train dataset using gradient boosting classifier is 0.9962452714767669. \n",
      "accuracy on train data using gradient boosting classifier is 0.9962546816479401 \n",
      "The area under ROC for train set using gradient boosting classifier is 0.9925373134328358\n",
      "--------\n",
      "F1 score on test dataset using gradient boosting classifier is 0.7683982683982685. \n",
      "accuracy on test data using gradient boosting classifier is 0.7727272727272727\n",
      "The area under ROC for test set using gradient boosting classifier is 0.7310344827586207\n",
      "-------------------------------------------------------------------------------\n",
      "-------------------------------------------------------------------------------\n"
     ]
    }
   ],
   "source": [
    "accuracy_list, f1_list = ml_pipeline(train, test, validation)"
   ]
  },
  {
   "cell_type": "code",
   "execution_count": 76,
   "metadata": {},
   "outputs": [
    {
     "data": {
      "image/png": "[encoded data removed]",
      "text/plain": [
       "<matplotlib.figure.Figure at 0x7f62a405b6a0>"
      ]
     },
     "metadata": {
      "needs_background": "light"
     },
     "output_type": "display_data"
    }
   ],
   "source": [
    "#plot the models evaluation using f1 score to compare between models\n",
    "fig, ax = plt.subplots(figsize=(6, 4))\n",
    "models = ['RF', 'LG', 'GBT']\n",
    "x_pos = np.arange(0, 3)\n",
    "\n",
    "ax.bar(x_pos, f1_list, tick_label = models)\n",
    "ax.set_title('Model evaluation using f1 score')\n",
    "\n",
    "plt.ylim(0, 1)\n",
    "plt.show()"
   ]
  },
  {
   "cell_type": "code",
   "execution_count": 77,
   "metadata": {
    "scrolled": true
   },
   "outputs": [
    {
     "data": {
      "image/png": "[encoded data removed]",
      "text/plain": [
       "<matplotlib.figure.Figure at 0x7f62a40aa4a8>"
      ]
     },
     "metadata": {
      "needs_background": "light"
     },
     "output_type": "display_data"
    }
   ],
   "source": [
    "#plot the models evaluation using accuracy score to compare between models\n",
    "fig, ax = plt.subplots(figsize=(6, 4))\n",
    "models = ['RF', 'LG', 'GBT']\n",
    "x_pos = np.arange(0, 3)\n",
    "\n",
    "ax.bar(x_pos, accuracy_list, tick_label = models)\n",
    "ax.set_title('Model evaluation using accuracy score')\n",
    "\n",
    "plt.ylim(0, 1)\n",
    "plt.show()"
   ]
  },
  {
   "cell_type": "markdown",
   "metadata": {},
   "source": [
    "### Optimization"
   ]
  },
  {
   "cell_type": "markdown",
   "metadata": {},
   "source": [
    "Now it is the time to tune hyperparameters for Random Forest, logistic regression, and gradient boosting to optimize the results."
   ]
  },
  {
   "cell_type": "code",
   "execution_count": 78,
   "metadata": {},
   "outputs": [],
   "source": [
    "def model_opt(train, test, validation, estimator, paramGrid, name): \n",
    "    '''\n",
    "    This function is for optimizing the estimators using parameter grid builder\n",
    "    INPUTS:\n",
    "    \n",
    "    train ->  the train dataset which is 60% from all dataset\n",
    "    test -> the test dataset which is 20% from all dataset\n",
    "    validation -> the validation dataset which is 20% from all dataset\n",
    "    estimator -> the classifier object\n",
    "    paramGrid -> the parameter grid builder which handles all parameters\n",
    "    name -> string handlesthe name of the estimator\n",
    "    \n",
    "    OUTPUT:\n",
    "    printing the f1 score and accuary for the  estimator is used\n",
    "    \n",
    "    acc_test ->  handles the accuacy for  the estimator i used on test dataset\n",
    "    f1_test ->  handles the f1 score for the estimator is used on test dataset\n",
    "    valid_res -> pandas dataframe handles all parameters is used in grid builder with f1 score\n",
    "    \n",
    "    \n",
    "    '''\n",
    "    \n",
    "    gender_indexer = StringIndexer(inputCol=\"gender\", outputCol=\"genderindex\", handleInvalid = 'skip')\n",
    "    state_indexer = StringIndexer(inputCol = \"state\", outputCol = \"stateindex\", handleInvalid = 'skip')\n",
    "    level_indexer = StringIndexer(inputCol = \"level\", outputCol = \"levelindex\", handleInvalid = 'skip')\n",
    "\n",
    "    # maps a column of category indices to a column of binary vectors\n",
    "    #https://spark.apache.org/docs/2.3.0/api/java/index.html?org/apache/spark/ml/feature/OneHotEncoderEstimator.html\n",
    "\n",
    "    encoder = OneHotEncoderEstimator(inputCols=[\"genderindex\", \"levelindex\", \"stateindex\"],\n",
    "                                       outputCols=[\"genderV\", \"levelV\", \"stateV\"], handleInvalid = 'keep')\n",
    "\n",
    "    # create vector of features\n",
    "    features = ['genderV', 'levelV', 'stateV', 'cast_session_count', 'cast_avgsongs_session',\n",
    "                'cast_artists_count', 'cast_thumbs_up_count', 'cast_thumbs_down_count']\n",
    "\n",
    "    #combine the features into a vector\n",
    "    assembler = VectorAssembler(inputCols=features, outputCol=\"features\")\n",
    "    \n",
    "    #normalize the numeric features\n",
    "    scalar = MinMaxScaler(inputCol=\"features\", outputCol=\"scaled_features\")\n",
    "\n",
    "    \n",
    "    # initialize random forest, logistic regression, gradient boosting classifiers\n",
    "    pipeline = Pipeline(stages = [gender_indexer, state_indexer, level_indexer, encoder, assembler,scalar, estimator])\n",
    "    \n",
    "    crossval = CrossValidator(estimator=pipeline,\n",
    "                              estimatorParamMaps=paramGrid,\n",
    "                              evaluator=MulticlassClassificationEvaluator(),\n",
    "                              numFolds=3)\n",
    "    cv = crossval.fit(train)\n",
    "    Model = cv.bestModel\n",
    "   \n",
    "    pred_test = Model.transform(test)\n",
    "    \n",
    "    #evaluation on test data for the best model\n",
    "    f1_eval_test = MulticlassClassificationEvaluator(metricName=\"f1\")\n",
    "    f1_test = f1_eval_test.evaluate(pred_test)\n",
    "    print('F1 score on test dataset using {} classifier is {}. '.format(name, f1_test))   \n",
    "    \n",
    "    acc_test = pred_test.filter(pred_test.label == pred_test.prediction).count() / pred_test.count()\n",
    "    print('accuracy on test data using {} classifier is {}'.format(name, acc_test))\n",
    "\n",
    "    \n",
    "    # get parameters\n",
    "    params = [{p.name: v for p, v in m.items()} for m in cv.getEstimatorParamMaps()]\n",
    "\n",
    "    # convert validation results to pandas dataframe\n",
    "    valid_res = pd.DataFrame.from_dict([\n",
    "        {cv.getEvaluator().getMetricName(): metric, **ps} \n",
    "        for ps, metric in zip(params, cv.avgMetrics)\n",
    "    ])\n",
    "    \n",
    "    return valid_res, f1_test, acc_test"
   ]
  },
  {
   "cell_type": "code",
   "execution_count": 79,
   "metadata": {},
   "outputs": [],
   "source": [
    "rf = RandomForestClassifier(labelCol=\"label\", featuresCol=\"scaled_features\", numTrees=10)\n",
    "paramGrid = ParamGridBuilder() \\\n",
    "        .addGrid(rf.numTrees, [10, 20, 50]) \\\n",
    "        .addGrid(rf.maxDepth, [3, 7, 10]) \\\n",
    "        .addGrid(rf.impurity, ['entropy', 'gini'])\\\n",
    "        .build()\n",
    "\n"
   ]
  },
  {
   "cell_type": "code",
   "execution_count": 80,
   "metadata": {},
   "outputs": [
    {
     "name": "stdout",
     "output_type": "stream",
     "text": [
      "F1 score on test dataset using RandomForest classifier is 0.8288293627276678. \n",
      "accuracy on test data using RandomForest classifier is 0.8295454545454546\n"
     ]
    }
   ],
   "source": [
    "valid_rf, f1_rf, acc_rf = model_opt(train, test, validation, rf, paramGrid, 'RandomForest')"
   ]
  },
  {
   "cell_type": "code",
   "execution_count": 81,
   "metadata": {},
   "outputs": [
    {
     "data": {
      "text/html": [
       "<div>\n",
       "<style scoped>\n",
       "    .dataframe tbody tr th:only-of-type {\n",
       "        vertical-align: middle;\n",
       "    }\n",
       "\n",
       "    .dataframe tbody tr th {\n",
       "        vertical-align: top;\n",
       "    }\n",
       "\n",
       "    .dataframe thead th {\n",
       "        text-align: right;\n",
       "    }\n",
       "</style>\n",
       "<table border=\"1\" class=\"dataframe\">\n",
       "  <thead>\n",
       "    <tr style=\"text-align: right;\">\n",
       "      <th></th>\n",
       "      <th>f1</th>\n",
       "      <th>impurity</th>\n",
       "      <th>maxDepth</th>\n",
       "      <th>numTrees</th>\n",
       "    </tr>\n",
       "  </thead>\n",
       "  <tbody>\n",
       "    <tr>\n",
       "      <th>0</th>\n",
       "      <td>0.843700</td>\n",
       "      <td>entropy</td>\n",
       "      <td>3</td>\n",
       "      <td>10</td>\n",
       "    </tr>\n",
       "    <tr>\n",
       "      <th>1</th>\n",
       "      <td>0.854878</td>\n",
       "      <td>gini</td>\n",
       "      <td>3</td>\n",
       "      <td>10</td>\n",
       "    </tr>\n",
       "    <tr>\n",
       "      <th>2</th>\n",
       "      <td>0.844488</td>\n",
       "      <td>entropy</td>\n",
       "      <td>7</td>\n",
       "      <td>10</td>\n",
       "    </tr>\n",
       "    <tr>\n",
       "      <th>3</th>\n",
       "      <td>0.837643</td>\n",
       "      <td>gini</td>\n",
       "      <td>7</td>\n",
       "      <td>10</td>\n",
       "    </tr>\n",
       "    <tr>\n",
       "      <th>4</th>\n",
       "      <td>0.850121</td>\n",
       "      <td>entropy</td>\n",
       "      <td>10</td>\n",
       "      <td>10</td>\n",
       "    </tr>\n",
       "    <tr>\n",
       "      <th>5</th>\n",
       "      <td>0.836805</td>\n",
       "      <td>gini</td>\n",
       "      <td>10</td>\n",
       "      <td>10</td>\n",
       "    </tr>\n",
       "    <tr>\n",
       "      <th>6</th>\n",
       "      <td>0.854080</td>\n",
       "      <td>entropy</td>\n",
       "      <td>3</td>\n",
       "      <td>20</td>\n",
       "    </tr>\n",
       "    <tr>\n",
       "      <th>7</th>\n",
       "      <td>0.846719</td>\n",
       "      <td>gini</td>\n",
       "      <td>3</td>\n",
       "      <td>20</td>\n",
       "    </tr>\n",
       "    <tr>\n",
       "      <th>8</th>\n",
       "      <td>0.872244</td>\n",
       "      <td>entropy</td>\n",
       "      <td>7</td>\n",
       "      <td>20</td>\n",
       "    </tr>\n",
       "    <tr>\n",
       "      <th>9</th>\n",
       "      <td>0.865492</td>\n",
       "      <td>gini</td>\n",
       "      <td>7</td>\n",
       "      <td>20</td>\n",
       "    </tr>\n",
       "    <tr>\n",
       "      <th>10</th>\n",
       "      <td>0.857110</td>\n",
       "      <td>entropy</td>\n",
       "      <td>10</td>\n",
       "      <td>20</td>\n",
       "    </tr>\n",
       "    <tr>\n",
       "      <th>11</th>\n",
       "      <td>0.868827</td>\n",
       "      <td>gini</td>\n",
       "      <td>10</td>\n",
       "      <td>20</td>\n",
       "    </tr>\n",
       "    <tr>\n",
       "      <th>12</th>\n",
       "      <td>0.855843</td>\n",
       "      <td>entropy</td>\n",
       "      <td>3</td>\n",
       "      <td>50</td>\n",
       "    </tr>\n",
       "    <tr>\n",
       "      <th>13</th>\n",
       "      <td>0.853598</td>\n",
       "      <td>gini</td>\n",
       "      <td>3</td>\n",
       "      <td>50</td>\n",
       "    </tr>\n",
       "    <tr>\n",
       "      <th>14</th>\n",
       "      <td>0.885799</td>\n",
       "      <td>entropy</td>\n",
       "      <td>7</td>\n",
       "      <td>50</td>\n",
       "    </tr>\n",
       "    <tr>\n",
       "      <th>15</th>\n",
       "      <td>0.872515</td>\n",
       "      <td>gini</td>\n",
       "      <td>7</td>\n",
       "      <td>50</td>\n",
       "    </tr>\n",
       "    <tr>\n",
       "      <th>16</th>\n",
       "      <td>0.885507</td>\n",
       "      <td>entropy</td>\n",
       "      <td>10</td>\n",
       "      <td>50</td>\n",
       "    </tr>\n",
       "    <tr>\n",
       "      <th>17</th>\n",
       "      <td>0.866111</td>\n",
       "      <td>gini</td>\n",
       "      <td>10</td>\n",
       "      <td>50</td>\n",
       "    </tr>\n",
       "  </tbody>\n",
       "</table>\n",
       "</div>"
      ],
      "text/plain": [
       "          f1 impurity  maxDepth  numTrees\n",
       "0   0.843700  entropy         3        10\n",
       "1   0.854878     gini         3        10\n",
       "2   0.844488  entropy         7        10\n",
       "3   0.837643     gini         7        10\n",
       "4   0.850121  entropy        10        10\n",
       "5   0.836805     gini        10        10\n",
       "6   0.854080  entropy         3        20\n",
       "7   0.846719     gini         3        20\n",
       "8   0.872244  entropy         7        20\n",
       "9   0.865492     gini         7        20\n",
       "10  0.857110  entropy        10        20\n",
       "11  0.868827     gini        10        20\n",
       "12  0.855843  entropy         3        50\n",
       "13  0.853598     gini         3        50\n",
       "14  0.885799  entropy         7        50\n",
       "15  0.872515     gini         7        50\n",
       "16  0.885507  entropy        10        50\n",
       "17  0.866111     gini        10        50"
      ]
     },
     "execution_count": 81,
     "metadata": {},
     "output_type": "execute_result"
    }
   ],
   "source": [
    "valid_rf"
   ]
  },
  {
   "cell_type": "code",
   "execution_count": 82,
   "metadata": {},
   "outputs": [],
   "source": [
    "lr = LogisticRegression(maxIter=10, regParam=0.3, elasticNetParam=0.8, family=\"multinomial\", labelCol=\"label\", featuresCol=\"scaled_features\")\n",
    "paramGrid = ParamGridBuilder() \\\n",
    "    .addGrid(lr.maxIter, [10, 30, 50]) \\\n",
    "    .addGrid(lr.regParam, [0.1, 0.3]) \\\n",
    "    .addGrid(lr.elasticNetParam, [0.8])\\\n",
    "    .addGrid(lr.family, ['auto'])\\\n",
    "    .build() "
   ]
  },
  {
   "cell_type": "code",
   "execution_count": 83,
   "metadata": {},
   "outputs": [
    {
     "name": "stdout",
     "output_type": "stream",
     "text": [
      "F1 score on test dataset using Logistic Regression classifier is 0.8100609068351005. \n",
      "accuracy on test data using Logistic Regression classifier is 0.8181818181818182\n"
     ]
    },
    {
     "data": {
      "text/html": [
       "<div>\n",
       "<style scoped>\n",
       "    .dataframe tbody tr th:only-of-type {\n",
       "        vertical-align: middle;\n",
       "    }\n",
       "\n",
       "    .dataframe tbody tr th {\n",
       "        vertical-align: top;\n",
       "    }\n",
       "\n",
       "    .dataframe thead th {\n",
       "        text-align: right;\n",
       "    }\n",
       "</style>\n",
       "<table border=\"1\" class=\"dataframe\">\n",
       "  <thead>\n",
       "    <tr style=\"text-align: right;\">\n",
       "      <th></th>\n",
       "      <th>elasticNetParam</th>\n",
       "      <th>f1</th>\n",
       "      <th>family</th>\n",
       "      <th>maxIter</th>\n",
       "      <th>regParam</th>\n",
       "    </tr>\n",
       "  </thead>\n",
       "  <tbody>\n",
       "    <tr>\n",
       "      <th>0</th>\n",
       "      <td>0.8</td>\n",
       "      <td>0.806092</td>\n",
       "      <td>auto</td>\n",
       "      <td>10</td>\n",
       "      <td>0.1</td>\n",
       "    </tr>\n",
       "    <tr>\n",
       "      <th>1</th>\n",
       "      <td>0.8</td>\n",
       "      <td>0.632522</td>\n",
       "      <td>auto</td>\n",
       "      <td>10</td>\n",
       "      <td>0.3</td>\n",
       "    </tr>\n",
       "    <tr>\n",
       "      <th>2</th>\n",
       "      <td>0.8</td>\n",
       "      <td>0.825651</td>\n",
       "      <td>auto</td>\n",
       "      <td>30</td>\n",
       "      <td>0.1</td>\n",
       "    </tr>\n",
       "    <tr>\n",
       "      <th>3</th>\n",
       "      <td>0.8</td>\n",
       "      <td>0.632522</td>\n",
       "      <td>auto</td>\n",
       "      <td>30</td>\n",
       "      <td>0.3</td>\n",
       "    </tr>\n",
       "    <tr>\n",
       "      <th>4</th>\n",
       "      <td>0.8</td>\n",
       "      <td>0.825651</td>\n",
       "      <td>auto</td>\n",
       "      <td>50</td>\n",
       "      <td>0.1</td>\n",
       "    </tr>\n",
       "    <tr>\n",
       "      <th>5</th>\n",
       "      <td>0.8</td>\n",
       "      <td>0.632522</td>\n",
       "      <td>auto</td>\n",
       "      <td>50</td>\n",
       "      <td>0.3</td>\n",
       "    </tr>\n",
       "  </tbody>\n",
       "</table>\n",
       "</div>"
      ],
      "text/plain": [
       "   elasticNetParam        f1 family  maxIter  regParam\n",
       "0              0.8  0.806092   auto       10       0.1\n",
       "1              0.8  0.632522   auto       10       0.3\n",
       "2              0.8  0.825651   auto       30       0.1\n",
       "3              0.8  0.632522   auto       30       0.3\n",
       "4              0.8  0.825651   auto       50       0.1\n",
       "5              0.8  0.632522   auto       50       0.3"
      ]
     },
     "execution_count": 83,
     "metadata": {},
     "output_type": "execute_result"
    }
   ],
   "source": [
    "valid_lr, f1_lr, acc_lr = model_opt(train, test, validation, lr, paramGrid, 'Logistic Regression')\n",
    "valid_lr"
   ]
  },
  {
   "cell_type": "code",
   "execution_count": 84,
   "metadata": {},
   "outputs": [],
   "source": [
    "gbt = GBTClassifier(labelCol=\"label\", featuresCol=\"scaled_features\", maxIter=10)\n",
    "paramGrid = ParamGridBuilder() \\\n",
    "    .addGrid(gbt.maxIter, [10, 20, 40]) \\\n",
    "    .addGrid(gbt.maxDepth, [2, 3, 5]) \\\n",
    "    .build()    "
   ]
  },
  {
   "cell_type": "code",
   "execution_count": 85,
   "metadata": {},
   "outputs": [
    {
     "name": "stdout",
     "output_type": "stream",
     "text": [
      "F1 score on test dataset using Gradient Boosting classifier is 0.8206168831168832. \n",
      "accuracy on test data using Gradient Boosting classifier is 0.8181818181818182\n"
     ]
    },
    {
     "data": {
      "text/html": [
       "<div>\n",
       "<style scoped>\n",
       "    .dataframe tbody tr th:only-of-type {\n",
       "        vertical-align: middle;\n",
       "    }\n",
       "\n",
       "    .dataframe tbody tr th {\n",
       "        vertical-align: top;\n",
       "    }\n",
       "\n",
       "    .dataframe thead th {\n",
       "        text-align: right;\n",
       "    }\n",
       "</style>\n",
       "<table border=\"1\" class=\"dataframe\">\n",
       "  <thead>\n",
       "    <tr style=\"text-align: right;\">\n",
       "      <th></th>\n",
       "      <th>f1</th>\n",
       "      <th>maxDepth</th>\n",
       "      <th>maxIter</th>\n",
       "    </tr>\n",
       "  </thead>\n",
       "  <tbody>\n",
       "    <tr>\n",
       "      <th>0</th>\n",
       "      <td>0.858967</td>\n",
       "      <td>2</td>\n",
       "      <td>10</td>\n",
       "    </tr>\n",
       "    <tr>\n",
       "      <th>1</th>\n",
       "      <td>0.838801</td>\n",
       "      <td>3</td>\n",
       "      <td>10</td>\n",
       "    </tr>\n",
       "    <tr>\n",
       "      <th>2</th>\n",
       "      <td>0.833968</td>\n",
       "      <td>5</td>\n",
       "      <td>10</td>\n",
       "    </tr>\n",
       "    <tr>\n",
       "      <th>3</th>\n",
       "      <td>0.856763</td>\n",
       "      <td>2</td>\n",
       "      <td>20</td>\n",
       "    </tr>\n",
       "    <tr>\n",
       "      <th>4</th>\n",
       "      <td>0.835401</td>\n",
       "      <td>3</td>\n",
       "      <td>20</td>\n",
       "    </tr>\n",
       "    <tr>\n",
       "      <th>5</th>\n",
       "      <td>0.829872</td>\n",
       "      <td>5</td>\n",
       "      <td>20</td>\n",
       "    </tr>\n",
       "    <tr>\n",
       "      <th>6</th>\n",
       "      <td>0.852538</td>\n",
       "      <td>2</td>\n",
       "      <td>40</td>\n",
       "    </tr>\n",
       "    <tr>\n",
       "      <th>7</th>\n",
       "      <td>0.842747</td>\n",
       "      <td>3</td>\n",
       "      <td>40</td>\n",
       "    </tr>\n",
       "    <tr>\n",
       "      <th>8</th>\n",
       "      <td>0.830605</td>\n",
       "      <td>5</td>\n",
       "      <td>40</td>\n",
       "    </tr>\n",
       "  </tbody>\n",
       "</table>\n",
       "</div>"
      ],
      "text/plain": [
       "         f1  maxDepth  maxIter\n",
       "0  0.858967         2       10\n",
       "1  0.838801         3       10\n",
       "2  0.833968         5       10\n",
       "3  0.856763         2       20\n",
       "4  0.835401         3       20\n",
       "5  0.829872         5       20\n",
       "6  0.852538         2       40\n",
       "7  0.842747         3       40\n",
       "8  0.830605         5       40"
      ]
     },
     "execution_count": 85,
     "metadata": {},
     "output_type": "execute_result"
    }
   ],
   "source": [
    "valid_gbt, f1_gbt, acc_gbt = model_opt(train, test, validation, gbt, paramGrid, 'Gradient Boosting')\n",
    "valid_gbt"
   ]
  },
  {
   "cell_type": "code",
   "execution_count": 86,
   "metadata": {},
   "outputs": [],
   "source": [
    "f1_opt = [f1_rf, f1_lr, f1_gbt]\n",
    "acc_opt = [acc_rf, acc_lr, acc_gbt]"
   ]
  },
  {
   "cell_type": "code",
   "execution_count": 87,
   "metadata": {},
   "outputs": [
    {
     "data": {
      "image/png": "[encoded data removed]",
      "text/plain": [
       "<matplotlib.figure.Figure at 0x7f629c696ef0>"
      ]
     },
     "metadata": {
      "needs_background": "light"
     },
     "output_type": "display_data"
    }
   ],
   "source": [
    "#plot the f1 score for all classfiers used after optimization\n",
    "fig, ax = plt.subplots(figsize=(6, 4))\n",
    "\n",
    "ax.bar(x_pos, f1_opt, tick_label = models)\n",
    "ax.set_title('Model evaluation using f1 score')\n",
    "\n",
    "plt.ylim(0, 1)\n",
    "plt.show()"
   ]
  },
  {
   "cell_type": "code",
   "execution_count": 88,
   "metadata": {},
   "outputs": [
    {
     "data": {
      "image/png": "[encoded data removed]",
      "text/plain": [
       "<matplotlib.figure.Figure at 0x7f629c6cafd0>"
      ]
     },
     "metadata": {
      "needs_background": "light"
     },
     "output_type": "display_data"
    }
   ],
   "source": [
    "#plot the accuracy score for all classifiers used after optimization\n",
    "fig, ax = plt.subplots(figsize=(6, 4))\n",
    "\n",
    "ax.bar(x_pos, acc_opt, tick_label = models)\n",
    "ax.set_title('Model evaluation using accuracy')\n",
    "\n",
    "plt.ylim(0, 1)\n",
    "plt.show()"
   ]
  },
  {
   "cell_type": "markdown",
   "metadata": {},
   "source": [
    "### Using the best model on Validation dataset"
   ]
  },
  {
   "cell_type": "code",
   "execution_count": 89,
   "metadata": {},
   "outputs": [
    {
     "name": "stdout",
     "output_type": "stream",
     "text": [
      "F1 score on test dataset using random forest classifier is 0.8074970225036043. \n",
      "accuracy on test data using classifier is 0.8023255813953488\n"
     ]
    }
   ],
   "source": [
    "gender_indexer = StringIndexer(inputCol=\"gender\", outputCol=\"genderindex\", handleInvalid = 'skip')\n",
    "state_indexer = StringIndexer(inputCol = \"state\", outputCol = \"stateindex\", handleInvalid = 'skip')\n",
    "level_indexer = StringIndexer(inputCol = \"level\", outputCol = \"levelindex\", handleInvalid = 'skip')\n",
    "\n",
    "# maps a column of category indices to a column of binary vectors\n",
    "#https://spark.apache.org/docs/2.3.0/api/java/index.html?org/apache/spark/ml/feature/OneHotEncoderEstimator.html\n",
    "\n",
    "encoder = OneHotEncoderEstimator(inputCols=[\"genderindex\", \"levelindex\", \"stateindex\"],\n",
    "                                 outputCols=[\"genderV\", \"levelV\", \"stateV\"], handleInvalid = 'keep')\n",
    "\n",
    "# create vector of features\n",
    "features = ['genderV', 'levelV', 'stateV', 'cast_session_count', 'cast_avgsongs_session',\n",
    "           'cast_artists_count', 'cast_thumbs_up_count', 'cast_thumbs_down_count']\n",
    "\n",
    "#combine the features into a vector\n",
    "assembler = VectorAssembler(inputCols=features, outputCol=\"features\")\n",
    "scalar = MinMaxScaler(inputCol=\"features\", outputCol=\"scaled_features\")\n",
    "\n",
    "    \n",
    "# initialize random forest, logistic regression, gradient boosting classifiers\n",
    "rf = RandomForestClassifier(labelCol=\"label\", featuresCol=\"scaled_features\", numTrees=20, maxDepth =7, impurity='entropy')\n",
    "pipeline = Pipeline(stages = [gender_indexer, state_indexer, level_indexer, encoder, assembler,scalar, rf])\n",
    "\n",
    "model = pipeline.fit(train)\n",
    "pred_valid = model.transform(validation)\n",
    "\n",
    "#model evaluation\n",
    "f1_eval_test = MulticlassClassificationEvaluator(metricName=\"f1\")\n",
    "print('F1 score on validation dataset using random forest classifier is {}. '.format(f1_eval_test.evaluate(pred_valid)))\n",
    "        \n",
    "acc_test = pred_valid.filter(pred_valid.label == pred_valid.prediction).count() / pred_valid.count()\n",
    "print('accuracy on validation data using classifier is {}'.format(acc_test))"
   ]
  },
  {
   "cell_type": "markdown",
   "metadata": {},
   "source": [
    "## Justification "
   ]
  },
  {
   "cell_type": "markdown",
   "metadata": {},
   "source": [
    "In this machine learning journey, I build a machine learning pipeline by creating indexers for categorical variables(giving each value an index), then  maps a column of category indices to a column of binary vectors using one hot encoders, then combine features into vectors, then normalizing the numeric features, then I used three estimators to choose between them the best one based on the metrics used in evaluation.\n",
    "\n",
    "The main purpose is to predict if the customer will churn or not, the random frest classifier was chosen in this prediction because it gave us the best performance based on the f1 score. the best model was chosen with the best hyperparameters because I used the cross validation approach in tuning the hyperparameters.\n",
    "\n",
    "The f1 score on train dataset is 92%, and on test dataset is 80%, but with tuning the hyperparameters the best model gives us 87% on test dataset, so I used it on validation dataset and the f1 score is 81% ."
   ]
  },
  {
   "cell_type": "markdown",
   "metadata": {},
   "source": [
    "## Refinement"
   ]
  },
  {
   "cell_type": "markdown",
   "metadata": {},
   "source": [
    "While working on th process of improving upon the algorithms and techniques, I see that the most effective measures for refinement are using normalization on numeric features, adding thumbs up and down features, removing the method and auth features, and tuning the hyperparameters. "
   ]
  },
  {
   "cell_type": "markdown",
   "metadata": {},
   "source": [
    "## Conclusion"
   ]
  },
  {
   "cell_type": "markdown",
   "metadata": {},
   "source": [
    "### Reflection"
   ]
  },
  {
   "cell_type": "markdown",
   "metadata": {},
   "source": [
    "Millions of users stream their favourite songs in this sparkify service, and our purpose in this project to predict if the customer will churn or not, so the PySpark and SparkML were used to analyze data and make predictions, the steps of working on this project followed from doing exploratory data nalysis to build intuition about the data, then feature engineering, then build machine learning pipelines on multiple estimators, and then choose the best one according to f1 score.\n",
    "\n",
    "Extracting the features from the datset to build machine learning models was the most interesting step, that you can be creative in this part."
   ]
  },
  {
   "cell_type": "markdown",
   "metadata": {},
   "source": [
    "### Improvement"
   ]
  },
  {
   "cell_type": "markdown",
   "metadata": {},
   "source": [
    "That we built a very good model that 81% f1 score was achieved, but there are more ways to improve our result:\n",
    "\n",
    "1. perform more fine tuning on hyperparameters\n",
    "2. Using the largest dataset, that will improve the performace of the model because we will have more train dataset\n",
    "3. Using other classifiers.\n",
    "4. extracting more features."
   ]
  },
  {
   "cell_type": "code",
   "execution_count": null,
   "metadata": {},
   "outputs": [],
   "source": []
  }
 ],
 "metadata": {
  "celltoolbar": "Raw Cell Format",
  "kernelspec": {
   "display_name": "Python 3",
   "language": "python",
   "name": "python3"
  },
  "language_info": {
   "codemirror_mode": {
    "name": "ipython",
    "version": 3
   },
   "file_extension": ".py",
   "mimetype": "text/x-python",
   "name": "python",
   "nbconvert_exporter": "python",
   "pygments_lexer": "ipython3",
   "version": "3.6.3"
  }
 },
 "nbformat": 4,
 "nbformat_minor": 2
}
